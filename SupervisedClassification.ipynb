{
  "cells": [
    {
      "cell_type": "markdown",
      "metadata": {
        "id": "a-bmLHZVFcGy"
      },
      "source": [
        "# Supervised Classification\n",
        "This jupyter notebook contains the code and a report on the usage of different classification methods to predict categories on the UCI Machine Learning dataset \"Teacher Assistant Evaluation\".\n",
        "\n",
        "The work contained within is created by: <br>\n",
        "Sharon Ramírez   - A01379035 <br>\n",
        "Andrea Gonzáles  - A01176527 <br>\n",
        "Yareth Lafarge   - A00835326 <br>\n",
        "Rafael Martínez  - A01274853 <br>\n",
        "\n",
        "The Teacher Assistant Dataset contains 151 entries with 5 attributes each, categorizing an entry into one of three categories:<br>\n",
        "1 - Low<br>\n",
        "2 - Medium<br>\n",
        "3 - High<br>\n",
        "\n"
      ]
    },
    {
      "cell_type": "markdown",
      "metadata": {
        "id": "X67JHbePFcG4"
      },
      "source": [
        "## Basic Imports and Dataset Loading\n",
        "For this work, Pandas will be used for data handling, and numpy for most mathematical operations. Additional imports will be used depending on each classifier, but they will be explained in their own sections.\n",
        "\n",
        "We load the dataset as a Pandas dataframe. The .data file does not contain headers, so we add our own to allow for easier visualization. Here is a short description of each attribute:\n",
        "- English? - Whether the TA is a native english speaker. 1 = Yes. 2 = No.\n",
        "- Instructor - A number identifying the instructor, it is a generic category.\n",
        "- Course - A number identifying the course, it is a generic category.\n",
        "- Summer? - Whether the course was taught as a summer or regular class. 1 = Yes. 2 = No.\n",
        "- Class Size - A number corresponding to the size of the class.\n",
        "- Quality - The score of the TA, divided into one of three. 1 = Low. 2 = Medium. 3 = High."
      ]
    },
    {
      "cell_type": "code",
      "execution_count": 2,
      "metadata": {
        "colab": {
          "base_uri": "https://localhost:8080/"
        },
        "id": "32XG6MoDFcG4",
        "outputId": "88e3a006-250f-476c-a5f7-8afeea185302"
      },
      "outputs": [
        {
          "output_type": "stream",
          "name": "stdout",
          "text": [
            "     English?  Instructor  Course  Summer?  Class Size  Quality\n",
            "0           1          23       3        1          19        3\n",
            "1           2          15       3        1          17        3\n",
            "2           1          23       3        2          49        3\n",
            "3           1           5       2        2          33        3\n",
            "4           2           7      11        2          55        3\n",
            "..        ...         ...     ...      ...         ...      ...\n",
            "146         2           3       2        2          26        1\n",
            "147         2          10       3        2          12        1\n",
            "148         1          18       7        2          48        1\n",
            "149         2          22       1        2          51        1\n",
            "150         2           2      10        2          27        1\n",
            "\n",
            "[151 rows x 6 columns]\n"
          ]
        }
      ],
      "source": [
        "#Basic imports\n",
        "import pandas as pd\n",
        "import numpy as np\n",
        "\n",
        "#Database import\n",
        "teacher_dataset=pd.read_csv('tae.data',names=[\"English?\",\"Instructor\",\"Course\",\"Summer?\",\"Class Size\",\"Quality\"])\n",
        "print(teacher_dataset)"
      ]
    },
    {
      "cell_type": "markdown",
      "metadata": {
        "id": "q52jeyUEFcG6"
      },
      "source": [
        "## Decision Trees\n",
        "Decisions trees are based on dividing categories into a flowchart that allows one decision to lead to the other consecutively, until we eventually reach a conclusion. \n",
        "\n",
        "For this work, two things will be shown:\n",
        "- A step-by-step construction of the first level of the decision tree using the full dataset for didactic purposes.\n",
        "- A Scikit Learn trained model using an 80/20 split for training/testing.\n",
        "\n",
        "### Manual Approach\n",
        "Scikit Learn includes a module for generating and training a decision, but first we will explain step-by-step how the construction of such an algorith is made, in order to justify the use of this technique for classification."
      ]
    },
    {
      "cell_type": "markdown",
      "metadata": {
        "id": "jSzIn4M4FcG7"
      },
      "source": [
        "### Entropy\n",
        "For the optimal construction of a decision tree, it is important to know how much information is given by each attribute, as to decide the level at which each should be. \n",
        "\n",
        "To determine what the level of information gained is, we use the Shannon model. Note that usually for binary decision trees we would see a range of 0 to 1 for information gain (at most, we gain a bit of information corresponding to a binary decision), but this is trinary tree: We have three possible outcomes. As such, information gains can be greater than 1.\n",
        "\n",
        "Determining the entropy of an attribute, that is, how 'disordered' it is and therefore how much information we can gain by ordering it, we use the following equation:\n",
        "\n",
        "![imagen.png](attachment:imagen.png)\n",
        "\n",
        "Where H(T,a) is the entropy for a particular attribute, a, for a certain number of counts, T. p is the 'probability', which is the observed amount of counts for each partition of an attribute (Ta) divided by the total number of counts. To calculate H(Ta) we use the sum of each Shannon information gain per partition:\n",
        "\n",
        "![imagen-2.png](attachment:imagen-2.png)\n",
        "\n",
        "Each 't' is an entry for that partition.\n",
        "\n",
        "We create a function that calculates the entropy for any attribute for a generic dataframe. It does the following:\n",
        "- Groups the dataframe by that attribute\n",
        "- Calculates the total number of entries\n",
        "- Calculates the size of each partition for that attribute\n",
        "- Calculates the information per partition\n",
        "- Calculates the entropy per partition\n",
        "- Sums the entropies and returns them"
      ]
    },
    {
      "cell_type": "code",
      "execution_count": 3,
      "metadata": {
        "id": "FzJMxXG4FcG8"
      },
      "outputs": [],
      "source": [
        "## INPUT: Dataframe, attribute and category as string\n",
        "## OUTPUT: Entropy, as a number, and the dataframe with all the calculation data\n",
        "def entropy(dataframe, attribute, category):\n",
        "    dfaux = dataframe.groupby([attribute, category], as_index=False).size()\n",
        "    df = dataframe.groupby([attribute], as_index=False).size()\n",
        "    count = dfaux[\"size\"].sum()\n",
        "    \n",
        "    # Get total size for each category\n",
        "    df = df.rename(columns={\"size\":\"total\"})\n",
        "    dfaux = pd.merge(dfaux, df, how=\"left\", on=attribute)\n",
        "    \n",
        "    # Calculate information per row\n",
        "    dfaux[\"info\"]=-(dfaux[\"size\"]/dfaux[\"total\"])*np.log2(dfaux[\"size\"]/dfaux[\"total\"])\n",
        "    \n",
        "    # Calculate entropy\n",
        "    dfaux = dfaux.groupby([attribute],as_index=False).sum()\n",
        "    dfaux[\"entropy\"] = dfaux[\"info\"]*(dfaux[\"size\"]/count)\n",
        "    entropy = dfaux[\"entropy\"].sum()\n",
        "    \n",
        "    return entropy, dfaux\n"
      ]
    },
    {
      "cell_type": "code",
      "execution_count": 4,
      "metadata": {
        "colab": {
          "base_uri": "https://localhost:8080/"
        },
        "id": "UtqmxIRGFcG8",
        "outputId": "e7e7f144-d287-4010-ac67-fb6548f424d0"
      },
      "outputs": [
        {
          "output_type": "stream",
          "name": "stdout",
          "text": [
            "Total Entropies per Attribute:\n",
            "==============================================\n",
            "Course in English? -- 1.5288054271129314\n",
            "Instructor         -- 1.1801399077062054\n",
            "Course             -- 1.150869239749956\n",
            "Summer Course?     -- 1.5225056243291086\n",
            "Size of class      -- 0.764631679828438\n"
          ]
        }
      ],
      "source": [
        "[entropyE,t] = entropy(teacher_dataset,\"English?\",\"Quality\")\n",
        "[entropyI,t] = entropy(teacher_dataset,\"Instructor\",\"Quality\")\n",
        "[entropyC,t1] = entropy(teacher_dataset,\"Course\",\"Quality\")\n",
        "[entropyS,t] = entropy(teacher_dataset,\"Summer?\",\"Quality\")\n",
        "[entropyCS,t] = entropy(teacher_dataset,\"Class Size\",\"Quality\")\n",
        "\n",
        "\n",
        "## Print entropies:\n",
        "print(\"Total Entropies per Attribute:\")\n",
        "print(\"==============================================\")\n",
        "print(\"Course in English? -- \"+str(entropyE))\n",
        "print(\"Instructor         -- \"+str(entropyI))\n",
        "print(\"Course             -- \"+str(entropyC))\n",
        "print(\"Summer Course?     -- \"+str(entropyS))\n",
        "print(\"Size of class      -- \"+str(entropyCS))"
      ]
    },
    {
      "cell_type": "markdown",
      "metadata": {
        "id": "kmplBD5XFcG9"
      },
      "source": [
        "Now, to decide which attribute to put as root, we choose the highest information gain by substracting each entropy from the general entropy:"
      ]
    },
    {
      "cell_type": "code",
      "execution_count": 5,
      "metadata": {
        "colab": {
          "base_uri": "https://localhost:8080/"
        },
        "id": "7zlkVPRWFcG-",
        "outputId": "5ec4a51b-8d34-4ba3-9b88-e1fbe3280bd1"
      },
      "outputs": [
        {
          "output_type": "stream",
          "name": "stdout",
          "text": [
            "General Entropy:\n",
            "1.5845209168501235\n",
            "\n",
            "Information Gain per Attribute:\n",
            "==========================================\n",
            "Course in English? -- 0.05571548973719209\n",
            "Instructor         -- 0.40438100914391817\n",
            "Course             -- 0.4336516771001675\n",
            "Summer Course?     -- 0.0620152925210149\n",
            "Size of class      -- 0.8198892370216855\n"
          ]
        }
      ],
      "source": [
        "## General entropy\n",
        "qualitas = teacher_dataset.groupby([\"Quality\"], as_index=False).size()\n",
        "genEnt = -(qualitas.iloc[0,1]/151)*np.log2(qualitas.iloc[0,1]/151)-(qualitas.iloc[1,1]/151)*np.log2(qualitas.iloc[1,1]/151)-(qualitas.iloc[2,1]/151)*np.log2(qualitas.iloc[2,1]/151)\n",
        "\n",
        "print(\"General Entropy:\")\n",
        "print(genEnt)\n",
        "print(\"\")\n",
        "\n",
        "## Information Gain\n",
        "print(\"Information Gain per Attribute:\")\n",
        "print(\"==========================================\")\n",
        "print(\"Course in English? -- \"+str(genEnt-entropyE))\n",
        "print(\"Instructor         -- \"+str(genEnt-entropyI))\n",
        "print(\"Course             -- \"+str(genEnt-entropyC))\n",
        "print(\"Summer Course?     -- \"+str(genEnt-entropyS))\n",
        "print(\"Size of class      -- \"+str(genEnt-entropyCS))"
      ]
    },
    {
      "cell_type": "markdown",
      "metadata": {
        "id": "E4wFCYb4FcG_"
      },
      "source": [
        "## Iterating to find next levels\n",
        "\n",
        "Our root is **size of class**. This attribute has a lot of values that immediately determine the quality of the class. We will first determine the leaves, which is what attributes cause the tree to be immediately finalized -- we do this by checking where we have entropy 0:"
      ]
    },
    {
      "cell_type": "code",
      "execution_count": 6,
      "metadata": {
        "scrolled": false,
        "id": "omOxziWMFcG_"
      },
      "outputs": [],
      "source": [
        "## INPUT: A dataframe, the attribute's name, and a trinary category\n",
        "def findLeaves(dataframe, attribute, category=\"Quality\"):\n",
        "    df = dataframe.groupby([attribute], as_index=False).count()\n",
        "    df = df[attribute]\n",
        "    leaves = []\n",
        "    subtables = []\n",
        "    for i in df:\n",
        "        dfaux = teacher_dataset.query(\"`\"+str(attribute)+\"` == \"+str(i))\n",
        "        [x, t] = entropy(dfaux, attribute, category)\n",
        "        if  x == 0:\n",
        "            leaves.append(i)\n",
        "        else:\n",
        "            subtables.append(dfaux)\n",
        "    return leaves, subtables\n",
        "\n",
        "[leaves, subtables] = findLeaves(teacher_dataset, \"Class Size\")\n"
      ]
    },
    {
      "cell_type": "markdown",
      "metadata": {
        "id": "iwAg3t1HFcHA"
      },
      "source": [
        "Here is what is found after looking for leaves, and some of the resulting subtables."
      ]
    },
    {
      "cell_type": "code",
      "execution_count": 7,
      "metadata": {
        "colab": {
          "base_uri": "https://localhost:8080/"
        },
        "id": "x4aFL1FqFcHA",
        "outputId": "7710b1a5-68a8-4dca-da9d-12a92bb3fba3"
      },
      "outputs": [
        {
          "output_type": "stream",
          "name": "stdout",
          "text": [
            "Leaves:\n",
            "[3, 5, 7, 9, 12, 16, 18, 22, 26, 28, 32, 33, 34, 35, 39, 43, 44, 45, 46, 48, 49, 51, 54, 55, 58, 66]\n",
            "A sampling of some subtables:\n",
            "     English?  Instructor  Course  Summer?  Class Size  Quality\n",
            "16          2           7      11        2          10        2\n",
            "18          2          13       3        1          10        2\n",
            "55          2           7      11        2          10        2\n",
            "57          2          13       3        1          10        2\n",
            "106         2          23       3        2          10        2\n",
            "144         2          19       4        2          10        1\n",
            "     English?  Instructor  Course  Summer?  Class Size  Quality\n",
            "1           2          15       3        1          17        3\n",
            "40          2          15       3        1          17        3\n",
            "79          1          13       3        1          17        3\n",
            "89          2          14      22        2          17        3\n",
            "121         2          13      14        2          17        3\n",
            "132         2          14      23        2          17        2\n"
          ]
        }
      ],
      "source": [
        "print(\"Leaves:\")\n",
        "print(leaves)\n",
        "print(\"A sampling of some subtables:\")\n",
        "print(subtables[0])\n",
        "print(subtables[5])"
      ]
    },
    {
      "cell_type": "markdown",
      "metadata": {
        "id": "0QGqbTecFcHA"
      },
      "source": [
        "We now will continue to split it, using the next best attribute (by checking info gain) for each branch."
      ]
    },
    {
      "cell_type": "code",
      "execution_count": 8,
      "metadata": {
        "colab": {
          "base_uri": "https://localhost:8080/"
        },
        "id": "qNfbYHNAFcHB",
        "outputId": "f1786fbf-86c6-44ae-a1f6-7645f3350210"
      },
      "outputs": [
        {
          "output_type": "stream",
          "name": "stdout",
          "text": [
            "For branch Class Size = 10, the best category is Course\n",
            "For branch Class Size = 11, the best category is Course\n",
            "For branch Class Size = 13, the best category is Course\n",
            "->Additionally, it's homogenous!\n",
            "For branch Class Size = 14, the best category is Course\n",
            "For branch Class Size = 15, the best category is Course\n",
            "For branch Class Size = 17, the best category is Course\n",
            "For branch Class Size = 19, the best category is Course\n",
            "For branch Class Size = 20, the best category is Course\n",
            "For branch Class Size = 21, the best category is Course\n",
            "For branch Class Size = 23, the best category is Course\n",
            "For branch Class Size = 24, the best category is Course\n",
            "For branch Class Size = 25, the best category is Course\n",
            "For branch Class Size = 27, the best category is Course\n",
            "For branch Class Size = 29, the best category is Course\n",
            "For branch Class Size = 30, the best category is Course\n",
            "->Additionally, it's homogenous!\n",
            "For branch Class Size = 31, the best category is Course\n",
            "For branch Class Size = 36, the best category is Course\n",
            "For branch Class Size = 37, the best category is Course\n",
            "For branch Class Size = 38, the best category is Course\n",
            "For branch Class Size = 42, the best category is Course\n"
          ]
        }
      ],
      "source": [
        "for i in range(0, len(subtables)):\n",
        "    df = subtables[i]\n",
        "    classSize = df.iloc[0,4]\n",
        "    df = df.drop(columns=[\"Class Size\"])\n",
        "    [entropyE,t] = entropy(teacher_dataset,\"English?\",\"Quality\")\n",
        "    [entropyI,t] = entropy(teacher_dataset,\"Instructor\",\"Quality\")\n",
        "    [entropyC,t1] = entropy(teacher_dataset,\"Course\",\"Quality\")\n",
        "    [entropyS,t] = entropy(teacher_dataset,\"Summer?\",\"Quality\")\n",
        "    qualitas = df.groupby([\"Quality\"], as_index=False).size()\n",
        "    size = qualitas.shape\n",
        "    size = size[0]\n",
        "    genEnt = 0\n",
        "    try:\n",
        "        genEnt = -(qualitas.iloc[0,1]/size)*np.log2(qualitas.iloc[0,1]/size)\n",
        "    except IndexError:\n",
        "        pass\n",
        "    try:\n",
        "        genEnt += -(qualitas.iloc[1,1]/size)*np.log2(qualitas.iloc[1,1]/size)\n",
        "    except IndexError:\n",
        "        pass\n",
        "    try:\n",
        "        genEnt += -(qualitas.iloc[2,1]/size)*np.log2(qualitas.iloc[2,1]/size)\n",
        "    except IndexError:\n",
        "        pass\n",
        "    ordered = np.array([(\"English?\", genEnt - entropyE),\n",
        "                        (\"Instructor\",genEnt - entropyI),\n",
        "                        (\"Course\",genEnt - entropyC),\n",
        "                        (\"Summer?\",genEnt - entropyS)], dtype=[(\"x\",\"S10\"),(\"y\", float)])\n",
        "    ordered.sort(order=\"y\")\n",
        "    best = ordered[-1][0]\n",
        "    best = best.decode(\"utf-8\")\n",
        "    \n",
        "    print(\"For branch Class Size = \"+str(classSize)+\", the best category is \"+str(best))\n",
        "    if genEnt == 0:\n",
        "        print(\"->Additionally, it's homogenous!\")"
      ]
    },
    {
      "cell_type": "markdown",
      "metadata": {
        "id": "zys_R0j7FcHB"
      },
      "source": [
        "From here, we can continue checking each level iteratively. For this, we will use Scikit Learn's Decision Tree model using an 80/20 split of data for training and testing."
      ]
    },
    {
      "cell_type": "markdown",
      "metadata": {
        "id": "f-K3nLupFcHC"
      },
      "source": [
        "## Scikit Learn -- Training a decision tree\n",
        "First, we import the required libraries to build the tree."
      ]
    },
    {
      "cell_type": "code",
      "source": [
        "import matplotlib.pyplot as plt\n",
        "import seaborn as sns\n",
        "\n",
        "from pandas.api.types import is_numeric_dtype\n",
        "\n",
        "from sklearn.model_selection import train_test_split\n",
        "\n",
        "sns.set()\n",
        "\n",
        "RANDOM_STATE = 10\n"
      ],
      "metadata": {
        "id": "dfnmZI4Lfkyt"
      },
      "execution_count": 3,
      "outputs": []
    },
    {
      "cell_type": "markdown",
      "source": [
        "As stated before, our classification attribute is Quality which will be denoted by the variable \"Y\".\n",
        "The test set will be randomly chosen from the complete dataset. "
      ],
      "metadata": {
        "id": "iORfVOoWzE1D"
      }
    },
    {
      "cell_type": "code",
      "source": [
        "X = teacher_dataset[[\"English?\",\"Instructor\",\"Course\",\"Summer?\",\"Class Size\"]]\n",
        "Y = teacher_dataset[\"Quality\"]\n",
        "\n",
        "from sklearn.preprocessing import LabelEncoder\n",
        "\n",
        "labelEncoder = LabelEncoder()\n",
        "Y = labelEncoder.fit_transform(Y)\n",
        "\n",
        "X_train, X_test, y_train, y_test = train_test_split(X, Y, test_size=0.2, random_state=RANDOM_STATE)"
      ],
      "metadata": {
        "id": "B_HbVfCHv3JR"
      },
      "execution_count": 4,
      "outputs": []
    },
    {
      "cell_type": "markdown",
      "source": [
        "The criteria to build the tree is defined by the entropy. It is produced a cross validation to evaluate the performance of the classifier."
      ],
      "metadata": {
        "id": "Eajw616hznsz"
      }
    },
    {
      "cell_type": "code",
      "source": [
        "from sklearn import tree\n",
        "from sklearn.model_selection import cross_val_score\n",
        "\n",
        "\n",
        "clf = tree.DecisionTreeClassifier(criterion=\"entropy\", random_state=RANDOM_STATE)\n",
        "\n",
        "\n",
        "\n",
        "cross_val_score(clf, X_train, y_train, cv=5)\n",
        "\n",
        "clf = clf.fit(X_train, y_train)\n",
        "clf.score(X_test, y_test)"
      ],
      "metadata": {
        "colab": {
          "base_uri": "https://localhost:8080/"
        },
        "id": "lRwRlVLBwUxV",
        "outputId": "c0a4244c-cb55-4946-ac58-df74e7e15c89"
      },
      "execution_count": 5,
      "outputs": [
        {
          "output_type": "execute_result",
          "data": {
            "text/plain": [
              "0.6774193548387096"
            ]
          },
          "metadata": {},
          "execution_count": 5
        }
      ]
    },
    {
      "cell_type": "code",
      "source": [
        "import graphviz \n",
        "dot_data = tree.export_graphviz(clf, out_file=None) \n",
        "graph = graphviz.Source(dot_data) \n",
        "graph.render(\"Teacher\")"
      ],
      "metadata": {
        "colab": {
          "base_uri": "https://localhost:8080/",
          "height": 35
        },
        "id": "6RjCtukh12Ae",
        "outputId": "2b375203-2b85-4d5b-bf95-471f565d2d34"
      },
      "execution_count": 6,
      "outputs": [
        {
          "output_type": "execute_result",
          "data": {
            "text/plain": [
              "'Teacher.pdf'"
            ],
            "application/vnd.google.colaboratory.intrinsic+json": {
              "type": "string"
            }
          },
          "metadata": {},
          "execution_count": 6
        }
      ]
    },
    {
      "cell_type": "markdown",
      "source": [
        "It can be observed that the root class is X[2] that corresponds to the course and against the manual approach it is different. We attribute this to the split of the training and testing set, therefore the entropy changes due to the reduction of the size regarding the training set."
      ],
      "metadata": {
        "id": "oUYeA1-cjqRC"
      }
    },
    {
      "cell_type": "markdown",
      "metadata": {
        "id": "ZsbnUeYNFcHC"
      },
      "source": [
        "## k Nearest Neighbors\n"
      ]
    },
    {
      "cell_type": "code",
      "execution_count": null,
      "metadata": {
        "id": "8f7ad939",
        "outputId": "cd99d8a1-6690-4019-f4f2-13f8f4165deb"
      },
      "outputs": [
        {
          "data": {
            "text/html": [
              "<div>\n",
              "<style scoped>\n",
              "    .dataframe tbody tr th:only-of-type {\n",
              "        vertical-align: middle;\n",
              "    }\n",
              "\n",
              "    .dataframe tbody tr th {\n",
              "        vertical-align: top;\n",
              "    }\n",
              "\n",
              "    .dataframe thead th {\n",
              "        text-align: right;\n",
              "    }\n",
              "</style>\n",
              "<table border=\"1\" class=\"dataframe\">\n",
              "  <thead>\n",
              "    <tr style=\"text-align: right;\">\n",
              "      <th></th>\n",
              "      <th>English speaker</th>\n",
              "      <th>Course instructor</th>\n",
              "      <th>Course</th>\n",
              "      <th>Semester</th>\n",
              "      <th>Size</th>\n",
              "      <th>Attribute</th>\n",
              "    </tr>\n",
              "  </thead>\n",
              "  <tbody>\n",
              "    <tr>\n",
              "      <th>0</th>\n",
              "      <td>1</td>\n",
              "      <td>23</td>\n",
              "      <td>3</td>\n",
              "      <td>1</td>\n",
              "      <td>19</td>\n",
              "      <td>3</td>\n",
              "    </tr>\n",
              "    <tr>\n",
              "      <th>1</th>\n",
              "      <td>2</td>\n",
              "      <td>15</td>\n",
              "      <td>3</td>\n",
              "      <td>1</td>\n",
              "      <td>17</td>\n",
              "      <td>3</td>\n",
              "    </tr>\n",
              "    <tr>\n",
              "      <th>2</th>\n",
              "      <td>1</td>\n",
              "      <td>23</td>\n",
              "      <td>3</td>\n",
              "      <td>2</td>\n",
              "      <td>49</td>\n",
              "      <td>3</td>\n",
              "    </tr>\n",
              "    <tr>\n",
              "      <th>3</th>\n",
              "      <td>1</td>\n",
              "      <td>5</td>\n",
              "      <td>2</td>\n",
              "      <td>2</td>\n",
              "      <td>33</td>\n",
              "      <td>3</td>\n",
              "    </tr>\n",
              "    <tr>\n",
              "      <th>4</th>\n",
              "      <td>2</td>\n",
              "      <td>7</td>\n",
              "      <td>11</td>\n",
              "      <td>2</td>\n",
              "      <td>55</td>\n",
              "      <td>3</td>\n",
              "    </tr>\n",
              "    <tr>\n",
              "      <th>...</th>\n",
              "      <td>...</td>\n",
              "      <td>...</td>\n",
              "      <td>...</td>\n",
              "      <td>...</td>\n",
              "      <td>...</td>\n",
              "      <td>...</td>\n",
              "    </tr>\n",
              "    <tr>\n",
              "      <th>146</th>\n",
              "      <td>2</td>\n",
              "      <td>3</td>\n",
              "      <td>2</td>\n",
              "      <td>2</td>\n",
              "      <td>26</td>\n",
              "      <td>1</td>\n",
              "    </tr>\n",
              "    <tr>\n",
              "      <th>147</th>\n",
              "      <td>2</td>\n",
              "      <td>10</td>\n",
              "      <td>3</td>\n",
              "      <td>2</td>\n",
              "      <td>12</td>\n",
              "      <td>1</td>\n",
              "    </tr>\n",
              "    <tr>\n",
              "      <th>148</th>\n",
              "      <td>1</td>\n",
              "      <td>18</td>\n",
              "      <td>7</td>\n",
              "      <td>2</td>\n",
              "      <td>48</td>\n",
              "      <td>1</td>\n",
              "    </tr>\n",
              "    <tr>\n",
              "      <th>149</th>\n",
              "      <td>2</td>\n",
              "      <td>22</td>\n",
              "      <td>1</td>\n",
              "      <td>2</td>\n",
              "      <td>51</td>\n",
              "      <td>1</td>\n",
              "    </tr>\n",
              "    <tr>\n",
              "      <th>150</th>\n",
              "      <td>2</td>\n",
              "      <td>2</td>\n",
              "      <td>10</td>\n",
              "      <td>2</td>\n",
              "      <td>27</td>\n",
              "      <td>1</td>\n",
              "    </tr>\n",
              "  </tbody>\n",
              "</table>\n",
              "<p>151 rows × 6 columns</p>\n",
              "</div>"
            ],
            "text/plain": [
              "     English speaker  Course instructor  Course  Semester  Size  Attribute\n",
              "0                  1                 23       3         1    19          3\n",
              "1                  2                 15       3         1    17          3\n",
              "2                  1                 23       3         2    49          3\n",
              "3                  1                  5       2         2    33          3\n",
              "4                  2                  7      11         2    55          3\n",
              "..               ...                ...     ...       ...   ...        ...\n",
              "146                2                  3       2         2    26          1\n",
              "147                2                 10       3         2    12          1\n",
              "148                1                 18       7         2    48          1\n",
              "149                2                 22       1         2    51          1\n",
              "150                2                  2      10         2    27          1\n",
              "\n",
              "[151 rows x 6 columns]\n"
            ]
          },
          "execution_count": 9,
          "metadata": {},
          "output_type": "execute_result"
        }
      ],
      "source": [
        "tae_data = pd.read_csv('tae.data',header=None,  names=[\"English speaker\", \"Course instructor\", \"Course\", \"Semester\", \"Size\", \"Attribute\"])\n",
        "print(tae_data)"
      ]
    },
    {
      "cell_type": "code",
      "execution_count": null,
      "metadata": {
        "id": "15fdbf22",
        "outputId": "543ac1cf-a73d-4447-c1df-3c47fc521a97"
      },
      "outputs": [
        {
          "data": {
            "text/html": [
              "<div>\n",
              "<style scoped>\n",
              "    .dataframe tbody tr th:only-of-type {\n",
              "        vertical-align: middle;\n",
              "    }\n",
              "\n",
              "    .dataframe tbody tr th {\n",
              "        vertical-align: top;\n",
              "    }\n",
              "\n",
              "    .dataframe thead th {\n",
              "        text-align: right;\n",
              "    }\n",
              "</style>\n",
              "<table border=\"1\" class=\"dataframe\">\n",
              "  <thead>\n",
              "    <tr style=\"text-align: right;\">\n",
              "      <th></th>\n",
              "      <th>English speaker</th>\n",
              "      <th>Course instructor</th>\n",
              "      <th>Course</th>\n",
              "      <th>Semester</th>\n",
              "      <th>Size</th>\n",
              "    </tr>\n",
              "  </thead>\n",
              "  <tbody>\n",
              "    <tr>\n",
              "      <th>0</th>\n",
              "      <td>1</td>\n",
              "      <td>23</td>\n",
              "      <td>3</td>\n",
              "      <td>1</td>\n",
              "      <td>19</td>\n",
              "    </tr>\n",
              "    <tr>\n",
              "      <th>1</th>\n",
              "      <td>2</td>\n",
              "      <td>15</td>\n",
              "      <td>3</td>\n",
              "      <td>1</td>\n",
              "      <td>17</td>\n",
              "    </tr>\n",
              "    <tr>\n",
              "      <th>2</th>\n",
              "      <td>1</td>\n",
              "      <td>23</td>\n",
              "      <td>3</td>\n",
              "      <td>2</td>\n",
              "      <td>49</td>\n",
              "    </tr>\n",
              "    <tr>\n",
              "      <th>3</th>\n",
              "      <td>1</td>\n",
              "      <td>5</td>\n",
              "      <td>2</td>\n",
              "      <td>2</td>\n",
              "      <td>33</td>\n",
              "    </tr>\n",
              "    <tr>\n",
              "      <th>4</th>\n",
              "      <td>2</td>\n",
              "      <td>7</td>\n",
              "      <td>11</td>\n",
              "      <td>2</td>\n",
              "      <td>55</td>\n",
              "    </tr>\n",
              "    <tr>\n",
              "      <th>...</th>\n",
              "      <td>...</td>\n",
              "      <td>...</td>\n",
              "      <td>...</td>\n",
              "      <td>...</td>\n",
              "      <td>...</td>\n",
              "    </tr>\n",
              "    <tr>\n",
              "      <th>146</th>\n",
              "      <td>2</td>\n",
              "      <td>3</td>\n",
              "      <td>2</td>\n",
              "      <td>2</td>\n",
              "      <td>26</td>\n",
              "    </tr>\n",
              "    <tr>\n",
              "      <th>147</th>\n",
              "      <td>2</td>\n",
              "      <td>10</td>\n",
              "      <td>3</td>\n",
              "      <td>2</td>\n",
              "      <td>12</td>\n",
              "    </tr>\n",
              "    <tr>\n",
              "      <th>148</th>\n",
              "      <td>1</td>\n",
              "      <td>18</td>\n",
              "      <td>7</td>\n",
              "      <td>2</td>\n",
              "      <td>48</td>\n",
              "    </tr>\n",
              "    <tr>\n",
              "      <th>149</th>\n",
              "      <td>2</td>\n",
              "      <td>22</td>\n",
              "      <td>1</td>\n",
              "      <td>2</td>\n",
              "      <td>51</td>\n",
              "    </tr>\n",
              "    <tr>\n",
              "      <th>150</th>\n",
              "      <td>2</td>\n",
              "      <td>2</td>\n",
              "      <td>10</td>\n",
              "      <td>2</td>\n",
              "      <td>27</td>\n",
              "    </tr>\n",
              "  </tbody>\n",
              "</table>\n",
              "<p>151 rows × 5 columns</p>\n",
              "</div>"
            ],
            "text/plain": [
              "     English speaker  Course instructor  Course  Semester  Size\n",
              "0                  1                 23       3         1    19\n",
              "1                  2                 15       3         1    17\n",
              "2                  1                 23       3         2    49\n",
              "3                  1                  5       2         2    33\n",
              "4                  2                  7      11         2    55\n",
              "..               ...                ...     ...       ...   ...\n",
              "146                2                  3       2         2    26\n",
              "147                2                 10       3         2    12\n",
              "148                1                 18       7         2    48\n",
              "149                2                 22       1         2    51\n",
              "150                2                  2      10         2    27\n",
              "\n",
              "[151 rows x 5 columns]"
            ]
          },
          "execution_count": 10,
          "metadata": {},
          "output_type": "execute_result"
        }
      ],
      "source": [
        "X = tae_data[tae_data.columns[:5]]\n",
        "X"
      ]
    },
    {
      "cell_type": "code",
      "execution_count": null,
      "metadata": {
        "id": "25a145dc",
        "outputId": "12e923d1-0565-49e8-f940-bab829c76bc9"
      },
      "outputs": [
        {
          "data": {
            "text/html": [
              "<div>\n",
              "<style scoped>\n",
              "    .dataframe tbody tr th:only-of-type {\n",
              "        vertical-align: middle;\n",
              "    }\n",
              "\n",
              "    .dataframe tbody tr th {\n",
              "        vertical-align: top;\n",
              "    }\n",
              "\n",
              "    .dataframe thead th {\n",
              "        text-align: right;\n",
              "    }\n",
              "</style>\n",
              "<table border=\"1\" class=\"dataframe\">\n",
              "  <thead>\n",
              "    <tr style=\"text-align: right;\">\n",
              "      <th></th>\n",
              "      <th>Attribute</th>\n",
              "    </tr>\n",
              "  </thead>\n",
              "  <tbody>\n",
              "    <tr>\n",
              "      <th>0</th>\n",
              "      <td>3</td>\n",
              "    </tr>\n",
              "    <tr>\n",
              "      <th>1</th>\n",
              "      <td>3</td>\n",
              "    </tr>\n",
              "    <tr>\n",
              "      <th>2</th>\n",
              "      <td>3</td>\n",
              "    </tr>\n",
              "    <tr>\n",
              "      <th>3</th>\n",
              "      <td>3</td>\n",
              "    </tr>\n",
              "    <tr>\n",
              "      <th>4</th>\n",
              "      <td>3</td>\n",
              "    </tr>\n",
              "    <tr>\n",
              "      <th>...</th>\n",
              "      <td>...</td>\n",
              "    </tr>\n",
              "    <tr>\n",
              "      <th>146</th>\n",
              "      <td>1</td>\n",
              "    </tr>\n",
              "    <tr>\n",
              "      <th>147</th>\n",
              "      <td>1</td>\n",
              "    </tr>\n",
              "    <tr>\n",
              "      <th>148</th>\n",
              "      <td>1</td>\n",
              "    </tr>\n",
              "    <tr>\n",
              "      <th>149</th>\n",
              "      <td>1</td>\n",
              "    </tr>\n",
              "    <tr>\n",
              "      <th>150</th>\n",
              "      <td>1</td>\n",
              "    </tr>\n",
              "  </tbody>\n",
              "</table>\n",
              "<p>151 rows × 1 columns</p>\n",
              "</div>"
            ],
            "text/plain": [
              "     Attribute\n",
              "0            3\n",
              "1            3\n",
              "2            3\n",
              "3            3\n",
              "4            3\n",
              "..         ...\n",
              "146          1\n",
              "147          1\n",
              "148          1\n",
              "149          1\n",
              "150          1\n",
              "\n",
              "[151 rows x 1 columns]"
            ]
          },
          "execution_count": 12,
          "metadata": {},
          "output_type": "execute_result"
        }
      ],
      "source": [
        "y = tae_data[tae_data.columns[5:6]]\n",
        "y"
      ]
    },
    {
      "cell_type": "code",
      "execution_count": null,
      "metadata": {
        "id": "48521f7e",
        "outputId": "6dba2fa8-d057-4637-e825-4b0fb02f540e"
      },
      "outputs": [
        {
          "data": {
            "text/plain": [
              "array([3, 3, 3, 3, 3, 3, 3, 3, 3, 3, 3, 3, 3, 3, 2, 2, 2, 2, 2, 2, 2, 2,\n",
              "       2, 2, 2, 2, 2, 2, 1, 1, 1, 1, 1, 1, 1, 1, 1, 1, 1, 3, 3, 3, 3, 3,\n",
              "       3, 3, 3, 3, 3, 3, 3, 3, 3, 2, 2, 2, 2, 2, 2, 2, 2, 2, 2, 2, 2, 2,\n",
              "       2, 1, 1, 1, 1, 1, 1, 1, 1, 1, 1, 1, 3, 3, 3, 3, 3, 3, 3, 3, 3, 3,\n",
              "       3, 3, 3, 3, 3, 3, 3, 2, 2, 2, 2, 2, 2, 2, 2, 2, 2, 2, 2, 1, 1, 1,\n",
              "       1, 1, 1, 1, 1, 1, 1, 1, 1, 1, 1, 3, 3, 3, 3, 3, 3, 3, 2, 2, 2, 2,\n",
              "       2, 2, 2, 2, 2, 2, 1, 1, 1, 1, 1, 1, 1, 1, 1, 1, 1, 1, 1],\n",
              "      dtype=int64)"
            ]
          },
          "execution_count": 12,
          "metadata": {},
          "output_type": "execute_result"
        }
      ],
      "source": [
        "y.values.ravel()"
      ]
    },
    {
      "cell_type": "code",
      "execution_count": null,
      "metadata": {
        "id": "5a9b1107"
      },
      "outputs": [],
      "source": [
        "X_train, X_test, y_train, y_test = train_test_split(X, y.values.ravel(), random_state=0)"
      ]
    },
    {
      "cell_type": "code",
      "execution_count": null,
      "metadata": {
        "id": "9417fc52",
        "outputId": "cf3210fb-36c7-4fe8-826d-fc536f014cbe"
      },
      "outputs": [
        {
          "name": "stdout",
          "output_type": "stream",
          "text": [
            "Accuracy of K-NN classifier on training set: 0.61\n",
            "Accuracy of K-NN classifier on test set: 0.42\n"
          ]
        }
      ],
      "source": [
        "knn = KNeighborsClassifier(n_neighbors=4)\n",
        "knn.fit(X_train, y_train)\n",
        "print('Accuracy of K-NN classifier on training set: {:.2f}'\n",
        "     .format(knn.score(X_train, y_train)))\n",
        "print('Accuracy of K-NN classifier on test set: {:.2f}'\n",
        "     .format(knn.score(X_test, y_test)))"
      ]
    },
    {
      "cell_type": "code",
      "execution_count": null,
      "metadata": {
        "id": "97b88863",
        "outputId": "8cf4fa48-fbcc-4921-89fd-03835a6f5920"
      },
      "outputs": [
        {
          "name": "stdout",
          "output_type": "stream",
          "text": [
            "              precision    recall  f1-score   support\n",
            "\n",
            "           1       0.32      1.00      0.48         7\n",
            "           2       0.50      0.25      0.33        16\n",
            "           3       0.62      0.33      0.43        15\n",
            "\n",
            "    accuracy                           0.42        38\n",
            "   macro avg       0.48      0.53      0.42        38\n",
            "weighted avg       0.52      0.42      0.40        38\n",
            "\n"
          ]
        }
      ],
      "source": [
        "predicted = knn.predict(X_test)\n",
        "expected = y_test\n",
        "print(metrics.classification_report(expected, predicted))"
      ]
    },
    {
      "cell_type": "code",
      "execution_count": null,
      "metadata": {
        "id": "94670cce"
      },
      "outputs": [],
      "source": [
        "knn = KNeighborsClassifier(n_neighbors=4)\n",
        "y_pred = cross_val_predict(knn, X, y.values.ravel(), cv=5)"
      ]
    },
    {
      "cell_type": "code",
      "execution_count": null,
      "metadata": {
        "id": "ca20e7aa",
        "outputId": "2e5563bc-91c2-47f4-eb09-9a9dfaddb417"
      },
      "outputs": [
        {
          "data": {
            "text/plain": [
              "array([3, 3, 3, 1, 1, 2, 1, 3, 3, 3, 3, 1, 3, 2, 2, 2, 2, 3, 1, 2, 2, 2,\n",
              "       1, 1, 2, 2, 3, 2, 3, 1, 1, 1, 1, 1, 1, 1, 2, 1, 2, 3, 3, 3, 1, 1,\n",
              "       3, 1, 3, 3, 3, 3, 1, 3, 2, 2, 2, 2, 3, 1, 2, 1, 2, 1, 1, 2, 2, 3,\n",
              "       2, 3, 1, 1, 3, 1, 1, 1, 1, 1, 1, 2, 1, 3, 3, 1, 1, 2, 2, 1, 3, 3,\n",
              "       1, 2, 2, 2, 3, 3, 2, 2, 3, 2, 1, 3, 3, 3, 3, 2, 3, 1, 1, 1, 1, 1,\n",
              "       3, 1, 3, 3, 1, 2, 3, 1, 1, 3, 2, 2, 2, 1, 1, 1, 3, 2, 1, 1, 3, 1,\n",
              "       3, 3, 1, 3, 2, 1, 1, 3, 1, 3, 3, 1, 1, 3, 2, 1, 2, 2, 1],\n",
              "      dtype=int64)"
            ]
          },
          "execution_count": 17,
          "metadata": {},
          "output_type": "execute_result"
        }
      ],
      "source": [
        "y_pred"
      ]
    },
    {
      "cell_type": "code",
      "execution_count": null,
      "metadata": {
        "id": "b67ec197"
      },
      "outputs": [],
      "source": [
        "from sklearn.metrics import mean_squared_error, r2_score"
      ]
    },
    {
      "cell_type": "code",
      "execution_count": null,
      "metadata": {
        "id": "d9530240",
        "outputId": "53a3b63a-6b37-4451-c86a-0434635d165c"
      },
      "outputs": [
        {
          "name": "stdout",
          "output_type": "stream",
          "text": [
            "1.0662251655629138\n",
            "-0.595000656081879\n"
          ]
        }
      ],
      "source": [
        "print(mean_squared_error(y,y_pred))\n",
        "print(r2_score(y,y_pred))"
      ]
    },
    {
      "cell_type": "code",
      "execution_count": null,
      "metadata": {
        "id": "3893dc14"
      },
      "outputs": [],
      "source": [
        "error = []\n",
        "for k in range(1,21):\n",
        "    knn = KNeighborsClassifier(n_neighbors=k)\n",
        "    y_pred = cross_val_predict(knn, X, y.values.ravel(), cv=6)\n",
        "    error.append(mean_squared_error(y,y_pred)) "
      ]
    },
    {
      "cell_type": "code",
      "execution_count": null,
      "metadata": {
        "id": "b2e5fab5"
      },
      "outputs": [],
      "source": [
        "import matplotlib.pyplot as plt"
      ]
    },
    {
      "cell_type": "code",
      "execution_count": null,
      "metadata": {
        "id": "ef26c154",
        "outputId": "bbcd1f29-f002-40d1-df1d-0d6df4decea7"
      },
      "outputs": [
        {
          "data": {
            "text/plain": [
              "[<matplotlib.lines.Line2D at 0x1ff8cc7adf0>]"
            ]
          },
          "execution_count": 267,
          "metadata": {},
          "output_type": "execute_result"
        },
        {
          "data": {
            "image/png": "[encoded data removed]",
            "text/plain": [
              "<Figure size 432x288 with 1 Axes>"
            ]
          },
          "metadata": {
            "needs_background": "light"
          },
          "output_type": "display_data"
        }
      ],
      "source": [
        "plt.plot(range(1,21),error)"
      ]
    }
  ],
  "metadata": {
    "kernelspec": {
      "display_name": "Python 3",
      "language": "python",
      "name": "python3"
    },
    "language_info": {
      "codemirror_mode": {
        "name": "ipython",
        "version": 3
      },
      "file_extension": ".py",
      "mimetype": "text/x-python",
      "name": "python",
      "nbconvert_exporter": "python",
      "pygments_lexer": "ipython3",
      "version": "3.8.5"
    },
    "colab": {
      "name": "SupervisedClassification.ipynb",
      "provenance": []
    }
  },
  "nbformat": 4,
  "nbformat_minor": 0
}