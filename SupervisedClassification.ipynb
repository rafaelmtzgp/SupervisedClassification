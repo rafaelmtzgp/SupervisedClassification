{
 "cells": [
  {
   "cell_type": "markdown",
   "metadata": {},
   "source": [
    "# Supervised Classification\n",
    "This jupyter notebook contains the code and a report on the usage of different classification methods to predict categories on the UCI Machine Learning dataset \"Teacher Assistant Evaluation\".\n",
    "\n",
    "The work contained within is created by: <br>\n",
    "Sharon Ramírez   - A01379035 <br>\n",
    "Andrea Gonzáles  - A01176527 <br>\n",
    "Yareth Lafarge   - A00835326 <br>\n",
    "Rafael Martínez  - A01274853 <br>\n",
    "\n",
    "The Teacher Assistant Dataset contains 151 entries with 5 attributes each, categorizing an entry into one of three categories:<br>\n",
    "1 - Low<br>\n",
    "2 - Medium<br>\n",
    "3 - High<br>\n",
    "\n"
   ]
  },
  {
   "cell_type": "markdown",
   "metadata": {},
   "source": [
    "## Basic Imports and Dataset Loading\n",
    "For this work, Pandas will be used for data handling, and numpy for most mathematical operations. Additional imports will be used depending on each classifier, but they will be explained in their own sections.\n",
    "\n",
    "We load the dataset as a Pandas dataframe. The .data file does not contain headers, so we add our own to allow for easier visualization. Here is a short description of each attribute:\n",
    "- English? - Whether the TA is a native english speaker. 1 = Yes. 2 = No.\n",
    "- Instructor - A number identifying the instructor, it is a generic category.\n",
    "- Course - A number identifying the course, it is a generic category.\n",
    "- Summer? - Whether the course was taught as a summer or regular class. 1 = Yes. 2 = No.\n",
    "- Class Size - A number corresponding to the size of the class.\n",
    "- Quality - The score of the TA, divided into one of three. 1 = Low. 2 = Medium. 3 = High."
   ]
  },
  {
   "cell_type": "code",
   "execution_count": 1,
   "metadata": {},
   "outputs": [
    {
     "name": "stdout",
     "output_type": "stream",
     "text": [
      "     English?  Instructor  Course  Summer?  Class Size  Quality\n",
      "0           1          23       3        1          19        3\n",
      "1           2          15       3        1          17        3\n",
      "2           1          23       3        2          49        3\n",
      "3           1           5       2        2          33        3\n",
      "4           2           7      11        2          55        3\n",
      "..        ...         ...     ...      ...         ...      ...\n",
      "146         2           3       2        2          26        1\n",
      "147         2          10       3        2          12        1\n",
      "148         1          18       7        2          48        1\n",
      "149         2          22       1        2          51        1\n",
      "150         2           2      10        2          27        1\n",
      "\n",
      "[151 rows x 6 columns]\n"
     ]
    }
   ],
   "source": [
    "#Basic imports\n",
    "import pandas as pd\n",
    "import numpy as np\n",
    "\n",
    "#Database import\n",
    "teacher_dataset=pd.read_csv('tae.data',names=[\"English?\",\"Instructor\",\"Course\",\"Summer?\",\"Class Size\",\"Quality\"])\n",
    "print(teacher_dataset)"
   ]
  },
  {
   "cell_type": "markdown",
   "metadata": {},
   "source": [
    "## Decision Trees\n",
    "Decisions trees are based on dividing categories into a flowchart that allows one decision to lead to the other consecutively, until we eventually reach a conclusion. \n",
    "\n",
    "For this work, two things will be shown:\n",
    "- A step-by-step construction of the first level of the decision tree using the full dataset for didactic purposes.\n",
    "- A Scikit Learn trained model using an 80/20 split for training/testing.\n",
    "\n",
    "### Manual Approach\n",
    "Scikit Learn includes a module for generating and training a decision, but first we will explain step-by-step how the construction of such an algorith is made, in order to justify the use of this technique for classification."
   ]
  },
  {
   "attachments": {
    "imagen-2.png": {
     "image/png": "[encoded data removed]"
    },
    "imagen.png": {
     "image/png": "[encoded data removed]"
    }
   },
   "cell_type": "markdown",
   "metadata": {},
   "source": [
    "### Entropy\n",
    "For the optimal construction of a decision tree, it is important to know how much information is given by each attribute, as to decide the level at which each should be. \n",
    "\n",
    "To determine what the level of information gained is, we use the Shannon model. Note that usually for binary decision trees we would see a range of 0 to 1 for information gain (at most, we gain a bit of information corresponding to a binary decision), but this is trinary tree: We have three possible outcomes. As such, information gains can be greater than 1.\n",
    "\n",
    "Determining the entropy of an attribute, that is, how 'disordered' it is and therefore how much information we can gain by ordering it, we use the following equation:\n",
    "\n",
    "![imagen.png](attachment:imagen.png)\n",
    "\n",
    "Where H(T,a) is the entropy for a particular attribute, a, for a certain number of counts, T. p is the 'probability', which is the observed amount of counts for each partition of an attribute (Ta) divided by the total number of counts. To calculate H(Ta) we use the sum of each Shannon information gain per partition:\n",
    "\n",
    "![imagen-2.png](attachment:imagen-2.png)\n",
    "\n",
    "Each 't' is an entry for that partition.\n",
    "\n",
    "We create a function that calculates the entropy for any attribute for a generic dataframe. It does the following:\n",
    "- Groups the dataframe by that attribute\n",
    "- Calculates the total number of entries\n",
    "- Calculates the size of each partition for that attribute\n",
    "- Calculates the information per partition\n",
    "- Calculates the entropy per partition\n",
    "- Sums the entropies and returns them"
   ]
  },
  {
   "cell_type": "code",
   "execution_count": 2,
   "metadata": {},
   "outputs": [],
   "source": [
    "## INPUT: Dataframe, attribute and category as string\n",
    "## OUTPUT: Entropy, as a number, and the dataframe with all the calculation data\n",
    "def entropy(dataframe, attribute, category):\n",
    "    dfaux = dataframe.groupby([attribute, category], as_index=False).size()\n",
    "    df = dataframe.groupby([attribute], as_index=False).size()\n",
    "    count = dfaux[\"size\"].sum()\n",
    "    \n",
    "    # Get total size for each category\n",
    "    df = df.rename(columns={\"size\":\"total\"})\n",
    "    dfaux = pd.merge(dfaux, df, how=\"left\", on=attribute)\n",
    "    \n",
    "    # Calculate information per row\n",
    "    dfaux[\"info\"]=-(dfaux[\"size\"]/dfaux[\"total\"])*np.log2(dfaux[\"size\"]/dfaux[\"total\"])\n",
    "    \n",
    "    # Calculate entropy\n",
    "    dfaux = dfaux.groupby([attribute],as_index=False).sum()\n",
    "    dfaux[\"entropy\"] = dfaux[\"info\"]*(dfaux[\"size\"]/count)\n",
    "    entropy = dfaux[\"entropy\"].sum()\n",
    "    \n",
    "    return entropy, dfaux\n"
   ]
  },
  {
   "cell_type": "code",
   "execution_count": 3,
   "metadata": {},
   "outputs": [
    {
     "name": "stdout",
     "output_type": "stream",
     "text": [
      "Total Entropies per Attribute:\n",
      "==============================================\n",
      "Course in English? -- 1.5288054271129314\n",
      "Instructor         -- 1.180139907706205\n",
      "Course             -- 1.150869239749956\n",
      "Summer Course?     -- 1.5225056243291086\n",
      "Size of class      -- 0.764631679828438\n"
     ]
    }
   ],
   "source": [
    "[entropyE,t] = entropy(teacher_dataset,\"English?\",\"Quality\")\n",
    "[entropyI,t] = entropy(teacher_dataset,\"Instructor\",\"Quality\")\n",
    "[entropyC,t1] = entropy(teacher_dataset,\"Course\",\"Quality\")\n",
    "[entropyS,t] = entropy(teacher_dataset,\"Summer?\",\"Quality\")\n",
    "[entropyCS,t] = entropy(teacher_dataset,\"Class Size\",\"Quality\")\n",
    "\n",
    "\n",
    "## Print entropies:\n",
    "print(\"Total Entropies per Attribute:\")\n",
    "print(\"==============================================\")\n",
    "print(\"Course in English? -- \"+str(entropyE))\n",
    "print(\"Instructor         -- \"+str(entropyI))\n",
    "print(\"Course             -- \"+str(entropyC))\n",
    "print(\"Summer Course?     -- \"+str(entropyS))\n",
    "print(\"Size of class      -- \"+str(entropyCS))"
   ]
  },
  {
   "cell_type": "markdown",
   "metadata": {},
   "source": [
    "Now, to decide which attribute to put as root, we choose the highest information gain by substracting each entropy from the general entropy:"
   ]
  },
  {
   "cell_type": "code",
   "execution_count": 4,
   "metadata": {},
   "outputs": [
    {
     "name": "stdout",
     "output_type": "stream",
     "text": [
      "General Entropy:\n",
      "1.5845209168501235\n",
      "\n",
      "Information Gain per Attribute:\n",
      "==========================================\n",
      "Course in English? -- 0.05571548973719209\n",
      "Instructor         -- 0.4043810091439186\n",
      "Course             -- 0.4336516771001675\n",
      "Summer Course?     -- 0.0620152925210149\n",
      "Size of class      -- 0.8198892370216855\n"
     ]
    }
   ],
   "source": [
    "## General entropy\n",
    "qualitas = teacher_dataset.groupby([\"Quality\"], as_index=False).size()\n",
    "genEnt = -(qualitas.iloc[0,1]/151)*np.log2(qualitas.iloc[0,1]/151)-(qualitas.iloc[1,1]/151)*np.log2(qualitas.iloc[1,1]/151)-(qualitas.iloc[2,1]/151)*np.log2(qualitas.iloc[2,1]/151)\n",
    "\n",
    "print(\"General Entropy:\")\n",
    "print(genEnt)\n",
    "print(\"\")\n",
    "\n",
    "## Information Gain\n",
    "print(\"Information Gain per Attribute:\")\n",
    "print(\"==========================================\")\n",
    "print(\"Course in English? -- \"+str(genEnt-entropyE))\n",
    "print(\"Instructor         -- \"+str(genEnt-entropyI))\n",
    "print(\"Course             -- \"+str(genEnt-entropyC))\n",
    "print(\"Summer Course?     -- \"+str(genEnt-entropyS))\n",
    "print(\"Size of class      -- \"+str(genEnt-entropyCS))"
   ]
  },
  {
   "cell_type": "markdown",
   "metadata": {},
   "source": [
    "## Iterating to find next levels\n",
    "\n",
    "Our root is **size of class**. This attribute has a lot of values that immediately determine the quality of the class. We will first determine the leaves, which is what attributes cause the tree to be immediately finalized -- we do this by checking where we have entropy 0:"
   ]
  },
  {
   "cell_type": "code",
   "execution_count": 5,
   "metadata": {
    "scrolled": false
   },
   "outputs": [],
   "source": [
    "## INPUT: A dataframe, the attribute's name, and a trinary category\n",
    "def findLeaves(dataframe, attribute, category=\"Quality\"):\n",
    "    df = dataframe.groupby([attribute], as_index=False).count()\n",
    "    df = df[attribute]\n",
    "    leaves = []\n",
    "    subtables = []\n",
    "    for i in df:\n",
    "        dfaux = teacher_dataset.query(\"`\"+str(attribute)+\"` == \"+str(i))\n",
    "        [x, t] = entropy(dfaux, attribute, category)\n",
    "        if  x == 0:\n",
    "            leaves.append(i)\n",
    "        else:\n",
    "            subtables.append(dfaux)\n",
    "    return leaves, subtables\n",
    "\n",
    "[leaves, subtables] = findLeaves(teacher_dataset, \"Class Size\")\n"
   ]
  },
  {
   "cell_type": "markdown",
   "metadata": {},
   "source": [
    "Here is what is found after looking for leaves, and some of the resulting subtables."
   ]
  },
  {
   "cell_type": "code",
   "execution_count": 6,
   "metadata": {},
   "outputs": [
    {
     "name": "stdout",
     "output_type": "stream",
     "text": [
      "Leaves:\n",
      "[3, 5, 7, 9, 12, 16, 18, 22, 26, 28, 32, 33, 34, 35, 39, 43, 44, 45, 46, 48, 49, 51, 54, 55, 58, 66]\n",
      "A sampling of some subtables:\n",
      "     English?  Instructor  Course  Summer?  Class Size  Quality\n",
      "16          2           7      11        2          10        2\n",
      "18          2          13       3        1          10        2\n",
      "55          2           7      11        2          10        2\n",
      "57          2          13       3        1          10        2\n",
      "106         2          23       3        2          10        2\n",
      "144         2          19       4        2          10        1\n",
      "     English?  Instructor  Course  Summer?  Class Size  Quality\n",
      "1           2          15       3        1          17        3\n",
      "40          2          15       3        1          17        3\n",
      "79          1          13       3        1          17        3\n",
      "89          2          14      22        2          17        3\n",
      "121         2          13      14        2          17        3\n",
      "132         2          14      23        2          17        2\n"
     ]
    }
   ],
   "source": [
    "print(\"Leaves:\")\n",
    "print(leaves)\n",
    "print(\"A sampling of some subtables:\")\n",
    "print(subtables[0])\n",
    "print(subtables[5])"
   ]
  },
  {
   "cell_type": "markdown",
   "metadata": {},
   "source": [
    "We now will continue to split it, using the next best attribute (by checking info gain) for each branch."
   ]
  },
  {
   "cell_type": "code",
   "execution_count": 8,
   "metadata": {},
   "outputs": [
    {
     "name": "stdout",
     "output_type": "stream",
     "text": [
      "For branch Class Size = 10, the best category is Course\n",
      "For branch Class Size = 11, the best category is Course\n",
      "For branch Class Size = 13, the best category is Course\n",
      "->Additionally, it's homogenous!\n",
      "For branch Class Size = 14, the best category is Course\n",
      "For branch Class Size = 15, the best category is Course\n",
      "For branch Class Size = 17, the best category is Course\n",
      "For branch Class Size = 19, the best category is Course\n",
      "For branch Class Size = 20, the best category is Course\n",
      "For branch Class Size = 21, the best category is Course\n",
      "For branch Class Size = 23, the best category is Course\n",
      "For branch Class Size = 24, the best category is Course\n",
      "For branch Class Size = 25, the best category is Course\n",
      "For branch Class Size = 27, the best category is Course\n",
      "For branch Class Size = 29, the best category is Course\n",
      "For branch Class Size = 30, the best category is Course\n",
      "->Additionally, it's homogenous!\n",
      "For branch Class Size = 31, the best category is Course\n",
      "For branch Class Size = 36, the best category is Course\n",
      "For branch Class Size = 37, the best category is Course\n",
      "For branch Class Size = 38, the best category is Course\n",
      "For branch Class Size = 42, the best category is Course\n"
     ]
    }
   ],
   "source": [
    "for i in range(0, len(subtables)):\n",
    "    df = subtables[i]\n",
    "    classSize = df.iloc[0,4]\n",
    "    df = df.drop(columns=[\"Class Size\"])\n",
    "    [entropyE,t] = entropy(teacher_dataset,\"English?\",\"Quality\")\n",
    "    [entropyI,t] = entropy(teacher_dataset,\"Instructor\",\"Quality\")\n",
    "    [entropyC,t1] = entropy(teacher_dataset,\"Course\",\"Quality\")\n",
    "    [entropyS,t] = entropy(teacher_dataset,\"Summer?\",\"Quality\")\n",
    "    qualitas = df.groupby([\"Quality\"], as_index=False).size()\n",
    "    size = qualitas.shape\n",
    "    size = size[0]\n",
    "    genEnt = 0\n",
    "    try:\n",
    "        genEnt = -(qualitas.iloc[0,1]/size)*np.log2(qualitas.iloc[0,1]/size)\n",
    "    except IndexError:\n",
    "        pass\n",
    "    try:\n",
    "        genEnt += -(qualitas.iloc[1,1]/size)*np.log2(qualitas.iloc[1,1]/size)\n",
    "    except IndexError:\n",
    "        pass\n",
    "    try:\n",
    "        genEnt += -(qualitas.iloc[2,1]/size)*np.log2(qualitas.iloc[2,1]/size)\n",
    "    except IndexError:\n",
    "        pass\n",
    "    ordered = np.array([(\"English?\", genEnt - entropyE),\n",
    "                        (\"Instructor\",genEnt - entropyI),\n",
    "                        (\"Course\",genEnt - entropyC),\n",
    "                        (\"Summer?\",genEnt - entropyS)], dtype=[(\"x\",\"S10\"),(\"y\", float)])\n",
    "    ordered.sort(order=\"y\")\n",
    "    best = ordered[-1][0]\n",
    "    best = best.decode(\"utf-8\")\n",
    "    \n",
    "    print(\"For branch Class Size = \"+str(classSize)+\", the best category is \"+str(best))\n",
    "    if genEnt == 0:\n",
    "        print(\"->Additionally, it's homogenous!\")"
   ]
  },
  {
   "cell_type": "markdown",
   "metadata": {},
   "source": [
    "From here, we can continue checking each level iteratively. For this, we will use Scikit Learn's Decision Tree model using an 80/20 split of data for training and testing."
   ]
  },
  {
   "cell_type": "markdown",
   "metadata": {},
   "source": [
    "## Scikit Learn -- Training a decision tree\n",
    "-- pon aqui yareth :)"
   ]
  },
  {
   "cell_type": "markdown",
   "id": "364385ea",
   "metadata": {},
   "source": [
    "## k-Nearest Neighbors (k-NN)\n",
    "\n",
    "K-NN is a classification clustering method. This method is one of the simplest learning algorithms for data classification. When a test sample is provided to the algorithm for class prediction, it uses a majority vote of the k nearest (neighboring) points to determine the corresponding class. This makes the method more robust against outliers or mislabeled data."
   ]
  },
  {
   "cell_type": "code",
   "execution_count": 2,
   "id": "964d24b0",
   "metadata": {},
   "outputs": [
    {
     "data": {
      "text/html": [
       "<div>\n",
       "<style scoped>\n",
       "    .dataframe tbody tr th:only-of-type {\n",
       "        vertical-align: middle;\n",
       "    }\n",
       "\n",
       "    .dataframe tbody tr th {\n",
       "        vertical-align: top;\n",
       "    }\n",
       "\n",
       "    .dataframe thead th {\n",
       "        text-align: right;\n",
       "    }\n",
       "</style>\n",
       "<table border=\"1\" class=\"dataframe\">\n",
       "  <thead>\n",
       "    <tr style=\"text-align: right;\">\n",
       "      <th></th>\n",
       "      <th>English speaker</th>\n",
       "      <th>Course instructor</th>\n",
       "      <th>Course</th>\n",
       "      <th>Semester</th>\n",
       "      <th>Size</th>\n",
       "      <th>Attribute</th>\n",
       "    </tr>\n",
       "  </thead>\n",
       "  <tbody>\n",
       "    <tr>\n",
       "      <th>0</th>\n",
       "      <td>1</td>\n",
       "      <td>23</td>\n",
       "      <td>3</td>\n",
       "      <td>1</td>\n",
       "      <td>19</td>\n",
       "      <td>3</td>\n",
       "    </tr>\n",
       "    <tr>\n",
       "      <th>1</th>\n",
       "      <td>2</td>\n",
       "      <td>15</td>\n",
       "      <td>3</td>\n",
       "      <td>1</td>\n",
       "      <td>17</td>\n",
       "      <td>3</td>\n",
       "    </tr>\n",
       "    <tr>\n",
       "      <th>2</th>\n",
       "      <td>1</td>\n",
       "      <td>23</td>\n",
       "      <td>3</td>\n",
       "      <td>2</td>\n",
       "      <td>49</td>\n",
       "      <td>3</td>\n",
       "    </tr>\n",
       "    <tr>\n",
       "      <th>3</th>\n",
       "      <td>1</td>\n",
       "      <td>5</td>\n",
       "      <td>2</td>\n",
       "      <td>2</td>\n",
       "      <td>33</td>\n",
       "      <td>3</td>\n",
       "    </tr>\n",
       "    <tr>\n",
       "      <th>4</th>\n",
       "      <td>2</td>\n",
       "      <td>7</td>\n",
       "      <td>11</td>\n",
       "      <td>2</td>\n",
       "      <td>55</td>\n",
       "      <td>3</td>\n",
       "    </tr>\n",
       "    <tr>\n",
       "      <th>...</th>\n",
       "      <td>...</td>\n",
       "      <td>...</td>\n",
       "      <td>...</td>\n",
       "      <td>...</td>\n",
       "      <td>...</td>\n",
       "      <td>...</td>\n",
       "    </tr>\n",
       "    <tr>\n",
       "      <th>146</th>\n",
       "      <td>2</td>\n",
       "      <td>3</td>\n",
       "      <td>2</td>\n",
       "      <td>2</td>\n",
       "      <td>26</td>\n",
       "      <td>1</td>\n",
       "    </tr>\n",
       "    <tr>\n",
       "      <th>147</th>\n",
       "      <td>2</td>\n",
       "      <td>10</td>\n",
       "      <td>3</td>\n",
       "      <td>2</td>\n",
       "      <td>12</td>\n",
       "      <td>1</td>\n",
       "    </tr>\n",
       "    <tr>\n",
       "      <th>148</th>\n",
       "      <td>1</td>\n",
       "      <td>18</td>\n",
       "      <td>7</td>\n",
       "      <td>2</td>\n",
       "      <td>48</td>\n",
       "      <td>1</td>\n",
       "    </tr>\n",
       "    <tr>\n",
       "      <th>149</th>\n",
       "      <td>2</td>\n",
       "      <td>22</td>\n",
       "      <td>1</td>\n",
       "      <td>2</td>\n",
       "      <td>51</td>\n",
       "      <td>1</td>\n",
       "    </tr>\n",
       "    <tr>\n",
       "      <th>150</th>\n",
       "      <td>2</td>\n",
       "      <td>2</td>\n",
       "      <td>10</td>\n",
       "      <td>2</td>\n",
       "      <td>27</td>\n",
       "      <td>1</td>\n",
       "    </tr>\n",
       "  </tbody>\n",
       "</table>\n",
       "<p>151 rows × 6 columns</p>\n",
       "</div>"
      ],
      "text/plain": [
       "     English speaker  Course instructor  Course  Semester  Size  Attribute\n",
       "0                  1                 23       3         1    19          3\n",
       "1                  2                 15       3         1    17          3\n",
       "2                  1                 23       3         2    49          3\n",
       "3                  1                  5       2         2    33          3\n",
       "4                  2                  7      11         2    55          3\n",
       "..               ...                ...     ...       ...   ...        ...\n",
       "146                2                  3       2         2    26          1\n",
       "147                2                 10       3         2    12          1\n",
       "148                1                 18       7         2    48          1\n",
       "149                2                 22       1         2    51          1\n",
       "150                2                  2      10         2    27          1\n",
       "\n",
       "[151 rows x 6 columns]"
      ]
     },
     "execution_count": 2,
     "metadata": {},
     "output_type": "execute_result"
    }
   ],
   "source": [
    "tae_data = pd.read_csv('tae.data',header=None,  names=[\"English speaker\", \"Course instructor\", \"Course\", \"Semester\", \"Size\", \"Attribute\"])\n",
    "tae_data"
   ]
  },
  {
   "cell_type": "markdown",
   "id": "45fa9b09",
   "metadata": {},
   "source": [
    "The first step is to save all our attributes excluding the class attribute in one variable (X)."
   ]
  },
  {
   "cell_type": "code",
   "execution_count": 3,
   "id": "1b449d00",
   "metadata": {},
   "outputs": [
    {
     "data": {
      "text/html": [
       "<div>\n",
       "<style scoped>\n",
       "    .dataframe tbody tr th:only-of-type {\n",
       "        vertical-align: middle;\n",
       "    }\n",
       "\n",
       "    .dataframe tbody tr th {\n",
       "        vertical-align: top;\n",
       "    }\n",
       "\n",
       "    .dataframe thead th {\n",
       "        text-align: right;\n",
       "    }\n",
       "</style>\n",
       "<table border=\"1\" class=\"dataframe\">\n",
       "  <thead>\n",
       "    <tr style=\"text-align: right;\">\n",
       "      <th></th>\n",
       "      <th>English speaker</th>\n",
       "      <th>Course instructor</th>\n",
       "      <th>Course</th>\n",
       "      <th>Semester</th>\n",
       "      <th>Size</th>\n",
       "    </tr>\n",
       "  </thead>\n",
       "  <tbody>\n",
       "    <tr>\n",
       "      <th>0</th>\n",
       "      <td>1</td>\n",
       "      <td>23</td>\n",
       "      <td>3</td>\n",
       "      <td>1</td>\n",
       "      <td>19</td>\n",
       "    </tr>\n",
       "    <tr>\n",
       "      <th>1</th>\n",
       "      <td>2</td>\n",
       "      <td>15</td>\n",
       "      <td>3</td>\n",
       "      <td>1</td>\n",
       "      <td>17</td>\n",
       "    </tr>\n",
       "    <tr>\n",
       "      <th>2</th>\n",
       "      <td>1</td>\n",
       "      <td>23</td>\n",
       "      <td>3</td>\n",
       "      <td>2</td>\n",
       "      <td>49</td>\n",
       "    </tr>\n",
       "    <tr>\n",
       "      <th>3</th>\n",
       "      <td>1</td>\n",
       "      <td>5</td>\n",
       "      <td>2</td>\n",
       "      <td>2</td>\n",
       "      <td>33</td>\n",
       "    </tr>\n",
       "    <tr>\n",
       "      <th>4</th>\n",
       "      <td>2</td>\n",
       "      <td>7</td>\n",
       "      <td>11</td>\n",
       "      <td>2</td>\n",
       "      <td>55</td>\n",
       "    </tr>\n",
       "    <tr>\n",
       "      <th>...</th>\n",
       "      <td>...</td>\n",
       "      <td>...</td>\n",
       "      <td>...</td>\n",
       "      <td>...</td>\n",
       "      <td>...</td>\n",
       "    </tr>\n",
       "    <tr>\n",
       "      <th>146</th>\n",
       "      <td>2</td>\n",
       "      <td>3</td>\n",
       "      <td>2</td>\n",
       "      <td>2</td>\n",
       "      <td>26</td>\n",
       "    </tr>\n",
       "    <tr>\n",
       "      <th>147</th>\n",
       "      <td>2</td>\n",
       "      <td>10</td>\n",
       "      <td>3</td>\n",
       "      <td>2</td>\n",
       "      <td>12</td>\n",
       "    </tr>\n",
       "    <tr>\n",
       "      <th>148</th>\n",
       "      <td>1</td>\n",
       "      <td>18</td>\n",
       "      <td>7</td>\n",
       "      <td>2</td>\n",
       "      <td>48</td>\n",
       "    </tr>\n",
       "    <tr>\n",
       "      <th>149</th>\n",
       "      <td>2</td>\n",
       "      <td>22</td>\n",
       "      <td>1</td>\n",
       "      <td>2</td>\n",
       "      <td>51</td>\n",
       "    </tr>\n",
       "    <tr>\n",
       "      <th>150</th>\n",
       "      <td>2</td>\n",
       "      <td>2</td>\n",
       "      <td>10</td>\n",
       "      <td>2</td>\n",
       "      <td>27</td>\n",
       "    </tr>\n",
       "  </tbody>\n",
       "</table>\n",
       "<p>151 rows × 5 columns</p>\n",
       "</div>"
      ],
      "text/plain": [
       "     English speaker  Course instructor  Course  Semester  Size\n",
       "0                  1                 23       3         1    19\n",
       "1                  2                 15       3         1    17\n",
       "2                  1                 23       3         2    49\n",
       "3                  1                  5       2         2    33\n",
       "4                  2                  7      11         2    55\n",
       "..               ...                ...     ...       ...   ...\n",
       "146                2                  3       2         2    26\n",
       "147                2                 10       3         2    12\n",
       "148                1                 18       7         2    48\n",
       "149                2                 22       1         2    51\n",
       "150                2                  2      10         2    27\n",
       "\n",
       "[151 rows x 5 columns]"
      ]
     },
     "execution_count": 3,
     "metadata": {},
     "output_type": "execute_result"
    }
   ],
   "source": [
    "X = tae_data[tae_data.columns[:5]]\n",
    "X"
   ]
  },
  {
   "cell_type": "markdown",
   "id": "4129245b",
   "metadata": {},
   "source": [
    "Then, the class attribute will also be stored in the variable that will be our target variable."
   ]
  },
  {
   "cell_type": "code",
   "execution_count": 4,
   "id": "75b8259b",
   "metadata": {},
   "outputs": [
    {
     "data": {
      "text/html": [
       "<div>\n",
       "<style scoped>\n",
       "    .dataframe tbody tr th:only-of-type {\n",
       "        vertical-align: middle;\n",
       "    }\n",
       "\n",
       "    .dataframe tbody tr th {\n",
       "        vertical-align: top;\n",
       "    }\n",
       "\n",
       "    .dataframe thead th {\n",
       "        text-align: right;\n",
       "    }\n",
       "</style>\n",
       "<table border=\"1\" class=\"dataframe\">\n",
       "  <thead>\n",
       "    <tr style=\"text-align: right;\">\n",
       "      <th></th>\n",
       "      <th>Attribute</th>\n",
       "    </tr>\n",
       "  </thead>\n",
       "  <tbody>\n",
       "    <tr>\n",
       "      <th>0</th>\n",
       "      <td>3</td>\n",
       "    </tr>\n",
       "    <tr>\n",
       "      <th>1</th>\n",
       "      <td>3</td>\n",
       "    </tr>\n",
       "    <tr>\n",
       "      <th>2</th>\n",
       "      <td>3</td>\n",
       "    </tr>\n",
       "    <tr>\n",
       "      <th>3</th>\n",
       "      <td>3</td>\n",
       "    </tr>\n",
       "    <tr>\n",
       "      <th>4</th>\n",
       "      <td>3</td>\n",
       "    </tr>\n",
       "    <tr>\n",
       "      <th>...</th>\n",
       "      <td>...</td>\n",
       "    </tr>\n",
       "    <tr>\n",
       "      <th>146</th>\n",
       "      <td>1</td>\n",
       "    </tr>\n",
       "    <tr>\n",
       "      <th>147</th>\n",
       "      <td>1</td>\n",
       "    </tr>\n",
       "    <tr>\n",
       "      <th>148</th>\n",
       "      <td>1</td>\n",
       "    </tr>\n",
       "    <tr>\n",
       "      <th>149</th>\n",
       "      <td>1</td>\n",
       "    </tr>\n",
       "    <tr>\n",
       "      <th>150</th>\n",
       "      <td>1</td>\n",
       "    </tr>\n",
       "  </tbody>\n",
       "</table>\n",
       "<p>151 rows × 1 columns</p>\n",
       "</div>"
      ],
      "text/plain": [
       "     Attribute\n",
       "0            3\n",
       "1            3\n",
       "2            3\n",
       "3            3\n",
       "4            3\n",
       "..         ...\n",
       "146          1\n",
       "147          1\n",
       "148          1\n",
       "149          1\n",
       "150          1\n",
       "\n",
       "[151 rows x 1 columns]"
      ]
     },
     "execution_count": 4,
     "metadata": {},
     "output_type": "execute_result"
    }
   ],
   "source": [
    "y = tae_data[tae_data.columns[5:6]]\n",
    "y"
   ]
  },
  {
   "cell_type": "code",
   "execution_count": 5,
   "id": "7eccae21",
   "metadata": {},
   "outputs": [
    {
     "data": {
      "text/plain": [
       "array([3, 3, 3, 3, 3, 3, 3, 3, 3, 3, 3, 3, 3, 3, 2, 2, 2, 2, 2, 2, 2, 2,\n",
       "       2, 2, 2, 2, 2, 2, 1, 1, 1, 1, 1, 1, 1, 1, 1, 1, 1, 3, 3, 3, 3, 3,\n",
       "       3, 3, 3, 3, 3, 3, 3, 3, 3, 2, 2, 2, 2, 2, 2, 2, 2, 2, 2, 2, 2, 2,\n",
       "       2, 1, 1, 1, 1, 1, 1, 1, 1, 1, 1, 1, 3, 3, 3, 3, 3, 3, 3, 3, 3, 3,\n",
       "       3, 3, 3, 3, 3, 3, 3, 2, 2, 2, 2, 2, 2, 2, 2, 2, 2, 2, 2, 1, 1, 1,\n",
       "       1, 1, 1, 1, 1, 1, 1, 1, 1, 1, 1, 3, 3, 3, 3, 3, 3, 3, 2, 2, 2, 2,\n",
       "       2, 2, 2, 2, 2, 2, 1, 1, 1, 1, 1, 1, 1, 1, 1, 1, 1, 1, 1],\n",
       "      dtype=int64)"
      ]
     },
     "execution_count": 5,
     "metadata": {},
     "output_type": "execute_result"
    }
   ],
   "source": [
    "y.values.ravel()"
   ]
  },
  {
   "cell_type": "markdown",
   "id": "c2547de2",
   "metadata": {},
   "source": [
    "The train_test_split() function receives four arguments. The first argument is the array containing the features, the second argument is the array containing the target variable. The test_size argument is used to specify the amount of data to be split and stored in the test set. As we have specified 0.3, 30% of the original data will be stored in the test set, while 70% of the original data will be used for training. "
   ]
  },
  {
   "cell_type": "code",
   "execution_count": 6,
   "id": "e03692bf",
   "metadata": {},
   "outputs": [],
   "source": [
    "X_train, X_test, y_train, y_test = train_test_split(X, y.values.ravel(), test_size=0.3,random_state=42, stratify=y.values.ravel())"
   ]
  },
  {
   "cell_type": "markdown",
   "id": "c4edf07b",
   "metadata": {},
   "source": [
    "The k-NN classifier is initialized with 4 neighbors. The .fit() method is used to fit this classifier to our training data. Finally, using the .score() method on the test data, we obtain a value between 0 and 1 indicating the accuracy of the classifier."
   ]
  },
  {
   "cell_type": "code",
   "execution_count": 7,
   "id": "e0e4b1d8",
   "metadata": {},
   "outputs": [
    {
     "name": "stdout",
     "output_type": "stream",
     "text": [
      "Accuracy of K-NN classifier on training set: 0.61\n",
      "Accuracy of K-NN classifier on test set: 0.37\n"
     ]
    }
   ],
   "source": [
    "knn = KNeighborsClassifier(n_neighbors=4)\n",
    "knn.fit(X_train, y_train)\n",
    "print('Accuracy of K-NN classifier on training set: {:.2f}'\n",
    "     .format(knn.score(X_train, y_train)))\n",
    "print('Accuracy of K-NN classifier on test set: {:.2f}'\n",
    "     .format(knn.score(X_test, y_test)))"
   ]
  },
  {
   "cell_type": "markdown",
   "id": "273d0507",
   "metadata": {},
   "source": [
    "The predict method is used to predict the class labels for the data provided. Precision tells us how many of the actual positives were correctly predicted to be positive, recall tells us how many of the predicted positives were actually positive. The F1 score combines the two into a single number that can be used as a fair judge of the model and is equal to the harmonic mean of precision and recall. The value of the F1 score will always lie between 0 (if either precision or recall is zero) and 1 (if both precision and recall are 1). The higher the score, the better the model's performance is said to be. Finally, the support is the number of samples of the true response that lie in that class. The reported averages include macro average (averaging the unweighted mean per label), weighted average (averaging the support-weighted mean per label), and sample average (only for multilabel classification). The precision and recall presented are not very good, but recall is better than precision, indicating that fraudulent cases were better predicted."
   ]
  },
  {
   "cell_type": "code",
   "execution_count": 8,
   "id": "f57800cf",
   "metadata": {},
   "outputs": [
    {
     "name": "stdout",
     "output_type": "stream",
     "text": [
      "              precision    recall  f1-score   support\n",
      "\n",
      "           1       0.37      0.47      0.41        15\n",
      "           2       0.44      0.53      0.48        15\n",
      "           3       0.22      0.12      0.16        16\n",
      "\n",
      "    accuracy                           0.37        46\n",
      "   macro avg       0.35      0.38      0.35        46\n",
      "weighted avg       0.34      0.37      0.35        46\n",
      "\n"
     ]
    }
   ],
   "source": [
    "predicted = knn.predict(X_test)\n",
    "expected = y_test\n",
    "print(metrics.classification_report(expected, predicted))"
   ]
  },
  {
   "cell_type": "code",
   "execution_count": 9,
   "id": "3bddafa6",
   "metadata": {},
   "outputs": [],
   "source": [
    "knn = KNeighborsClassifier(n_neighbors=4)\n",
    "y_pred = cross_val_predict(knn, X, y.values.ravel(), cv=5)"
   ]
  },
  {
   "cell_type": "code",
   "execution_count": 10,
   "id": "701e0440",
   "metadata": {},
   "outputs": [
    {
     "data": {
      "text/plain": [
       "array([3, 3, 3, 1, 1, 2, 1, 3, 3, 3, 3, 1, 3, 2, 2, 2, 2, 3, 1, 2, 2, 2,\n",
       "       1, 1, 2, 2, 3, 2, 3, 1, 1, 1, 1, 1, 1, 1, 2, 1, 2, 3, 3, 3, 1, 1,\n",
       "       3, 1, 3, 3, 3, 3, 1, 3, 2, 2, 2, 2, 3, 1, 2, 1, 2, 1, 1, 2, 2, 3,\n",
       "       2, 3, 1, 1, 3, 1, 1, 1, 1, 1, 1, 2, 1, 3, 3, 1, 1, 2, 2, 1, 3, 3,\n",
       "       1, 2, 2, 2, 3, 3, 2, 2, 3, 2, 1, 3, 3, 3, 3, 2, 3, 1, 1, 1, 1, 1,\n",
       "       3, 1, 3, 3, 1, 2, 3, 1, 1, 3, 2, 2, 2, 1, 1, 1, 3, 2, 1, 1, 3, 1,\n",
       "       3, 3, 1, 3, 2, 1, 1, 3, 1, 3, 3, 1, 1, 3, 2, 1, 2, 2, 1],\n",
       "      dtype=int64)"
      ]
     },
     "execution_count": 10,
     "metadata": {},
     "output_type": "execute_result"
    }
   ],
   "source": [
    "y_pred"
   ]
  },
  {
   "cell_type": "code",
   "execution_count": 11,
   "id": "02499912",
   "metadata": {},
   "outputs": [],
   "source": [
    "from sklearn.metrics import mean_squared_error, r2_score"
   ]
  },
  {
   "cell_type": "markdown",
   "id": "4c20243e",
   "metadata": {},
   "source": [
    "Mean square error is the mean square error of the difference between the actual and predicted values, the smaller the error the better the result. \n",
    "\n",
    "R2 is the correlation between the dependent variable and the set of independent variables, the higher the correlation the better the result."
   ]
  },
  {
   "cell_type": "code",
   "execution_count": 12,
   "id": "8d126a3a",
   "metadata": {},
   "outputs": [
    {
     "name": "stdout",
     "output_type": "stream",
     "text": [
      "1.0662251655629138\n",
      "-0.595000656081879\n"
     ]
    }
   ],
   "source": [
    "print(mean_squared_error(y,y_pred))\n",
    "print(r2_score(y,y_pred))"
   ]
  },
  {
   "cell_type": "markdown",
   "id": "0a1e39fa",
   "metadata": {},
   "source": [
    "Using cross validation to find optimal number of neighbors. Using cross-validation ensures that we do not overfit or underfit the data as we have used the entire dataset for training and testing. k-Fold Cross Validation: Split the data into k folds, for k runs, use one fold as testing and the rest as training. Average over the k folds. "
   ]
  },
  {
   "cell_type": "code",
   "execution_count": 13,
   "id": "25e72995",
   "metadata": {},
   "outputs": [],
   "source": [
    "error = []\n",
    "for k in range(1,26):\n",
    "    knn = KNeighborsClassifier(n_neighbors=k)\n",
    "    y_pred = cross_val_predict(knn, X, y.values.ravel(), cv=5)\n",
    "    error.append(mean_squared_error(y,y_pred)) "
   ]
  },
  {
   "cell_type": "code",
   "execution_count": 14,
   "id": "bb17bb57",
   "metadata": {},
   "outputs": [],
   "source": [
    "import matplotlib.pyplot as plt"
   ]
  },
  {
   "cell_type": "code",
   "execution_count": 15,
   "id": "459a790c",
   "metadata": {},
   "outputs": [
    {
     "data": {
      "text/plain": [
       "[<matplotlib.lines.Line2D at 0x22177b832b0>]"
      ]
     },
     "execution_count": 15,
     "metadata": {},
     "output_type": "execute_result"
    },
    {
     "data": {
      "image/png": "[encoded data removed]",
      "text/plain": [
       "<Figure size 432x288 with 1 Axes>"
      ]
     },
     "metadata": {
      "needs_background": "light"
     },
     "output_type": "display_data"
    }
   ],
   "source": [
    "plt.plot(range(1,26),error)"
   ]
  },
  {
   "cell_type": "markdown",
   "id": "c9c57165",
   "metadata": {},
   "source": [
    "As can be seen in the graph, the optimal number of neighbors is 4."
   ]
  }
 ],
 "metadata": {
  "kernelspec": {
   "display_name": "Python 3",
   "language": "python",
   "name": "python3"
  },
  "language_info": {
   "codemirror_mode": {
    "name": "ipython",
    "version": 3
   },
   "file_extension": ".py",
   "mimetype": "text/x-python",
   "name": "python",
   "nbconvert_exporter": "python",
   "pygments_lexer": "ipython3",
   "version": "3.8.5"
  }
 },
 "nbformat": 4,
 "nbformat_minor": 4
}


