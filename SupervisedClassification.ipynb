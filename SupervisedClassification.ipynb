{
 "cells": [
  {
   "cell_type": "markdown",
   "metadata": {},
   "source": [
    "# Supervised Classification\n",
    "This jupyter notebook contains the code and a report on the usage of different classification methods to predict categories on the UCI Machine Learning dataset \"Teacher Assistant Evaluation\".\n",
    "\n",
    "The work contained within is created by: <br>\n",
    "Sharon Ramírez   - A01379035 <br>\n",
    "Andrea Gonzáles  - A01176527 <br>\n",
    "Yareth Lafarge   - A00835326 <br>\n",
    "Rafael Martínez  - A01274853 <br>\n",
    "\n",
    "The Teacher Assistant Dataset contains 151 entries with 5 attributes each, categorizing an entry into one of three categories:<br>\n",
    "1 - Low<br>\n",
    "2 - Medium<br>\n",
    "3 - High<br>\n",
    "\n",
    "We use three different classifiers in order to characterize this dataset:\n",
    "1. Decision Trees: A method based on binary decisions in order to reach a conclusion about what category an entry belongs to.\n",
    "2. kNN: A method based on the similarity of entries to their neighbors, classifying data points based on what is near them.\n",
    "3. LDA: A linear boundary based method that sets a threshold with which to separate entries into different categories."
   ]
  },
  {
   "cell_type": "markdown",
   "metadata": {},
   "source": [
    "## Basic Imports and Dataset Loading\n",
    "For this work, Pandas will be used for data handling, and numpy for most mathematical operations. Additional imports will be used depending on each classifier, but they will be explained in their own sections.\n",
    "\n",
    "We load the dataset as a Pandas dataframe. The .data file does not contain headers, so we add our own to allow for easier visualization. Here is a short description of each attribute:\n",
    "- English? - Whether the TA is a native english speaker. 1 = Yes. 2 = No.\n",
    "- Instructor - A number identifying the instructor, it is a generic category.\n",
    "- Course - A number identifying the course, it is a generic category.\n",
    "- Summer? - Whether the course was taught as a summer or regular class. 1 = Yes. 2 = No.\n",
    "- Class Size - A number corresponding to the size of the class.\n",
    "- Quality - The score of the TA, divided into one of three. 1 = Low. 2 = Medium. 3 = High."
   ]
  },
  {
   "cell_type": "code",
   "execution_count": 11,
   "metadata": {},
   "outputs": [
    {
     "name": "stdout",
     "output_type": "stream",
     "text": [
      "     English?  Instructor  Course  Summer?  Class Size  Quality\n",
      "0           1          23       3        1          19        3\n",
      "1           2          15       3        1          17        3\n",
      "2           1          23       3        2          49        3\n",
      "3           1           5       2        2          33        3\n",
      "4           2           7      11        2          55        3\n",
      "..        ...         ...     ...      ...         ...      ...\n",
      "146         2           3       2        2          26        1\n",
      "147         2          10       3        2          12        1\n",
      "148         1          18       7        2          48        1\n",
      "149         2          22       1        2          51        1\n",
      "150         2           2      10        2          27        1\n",
      "\n",
      "[151 rows x 6 columns]\n"
     ]
    }
   ],
   "source": [
    "#Basic imports\n",
    "import pandas as pd\n",
    "import numpy as np\n",
    "\n",
    "#Database import\n",
    "teacher_dataset=pd.read_csv('tae.data',names=[\"English?\",\"Instructor\",\"Course\",\"Summer?\",\"Class Size\",\"Quality\"])\n",
    "print(teacher_dataset)"
   ]
  },
  {
   "cell_type": "markdown",
   "metadata": {},
   "source": [
    "## Decision Trees\n",
    "Decisions trees are based on dividing categories into a flowchart that allows one decision to lead to the other consecutively, until we eventually reach a conclusion. \n",
    "\n",
    "For this work, two things will be shown:\n",
    "- A step-by-step construction of the first level of the decision tree using the full dataset for didactic purposes.\n",
    "- A Scikit Learn trained model using an 80/20 split for training/testing.\n",
    "\n",
    "### Manual Approach\n",
    "Scikit Learn includes a module for generating and training a decision, but first we will explain step-by-step how the construction of such an algorith is made, in order to justify the use of this technique for classification."
   ]
  },
  {
   "attachments": {
    "imagen-2.png": {
     "image/png": "[encoded data removed]"
    },
    "imagen.png": {
     "image/png": "[encoded data removed]"
    }
   },
   "cell_type": "markdown",
   "metadata": {},
   "source": [
    "### Entropy\n",
    "For the optimal construction of a decision tree, it is important to know how much information is given by each attribute, as to decide the level at which each should be. \n",
    "\n",
    "To determine what the level of information gained is, we use the Shannon model. Note that usually for binary decision trees we would see a range of 0 to 1 for information gain (at most, we gain a bit of information corresponding to a binary decision), but this is trinary tree: We have three possible outcomes. As such, information gains can be greater than 1.\n",
    "\n",
    "Determining the entropy of an attribute, that is, how 'disordered' it is and therefore how much information we can gain by ordering it, we use the following equation:\n",
    "\n",
    "![imagen.png](attachment:imagen.png)\n",
    "\n",
    "Where H(T,a) is the entropy for a particular attribute, a, for a certain number of counts, T. p is the 'probability', which is the observed amount of counts for each partition of an attribute (Ta) divided by the total number of counts. To calculate H(Ta) we use the sum of each Shannon information gain per partition:\n",
    "\n",
    "![imagen-2.png](attachment:imagen-2.png)\n",
    "\n",
    "Each 't' is an entry for that partition.\n",
    "\n",
    "We create a function that calculates the entropy for any attribute for a generic dataframe. It does the following:\n",
    "- Groups the dataframe by that attribute\n",
    "- Calculates the total number of entries\n",
    "- Calculates the size of each partition for that attribute\n",
    "- Calculates the information per partition\n",
    "- Calculates the entropy per partition\n",
    "- Sums the entropies and returns them"
   ]
  },
  {
   "cell_type": "code",
   "execution_count": 12,
   "metadata": {},
   "outputs": [],
   "source": [
    "## INPUT: Dataframe, attribute and category as string\n",
    "## OUTPUT: Entropy, as a number, and the dataframe with all the calculation data\n",
    "def entropy(dataframe, attribute, category):\n",
    "    dfaux = dataframe.groupby([attribute, category], as_index=False).size()\n",
    "    df = dataframe.groupby([attribute], as_index=False).size()\n",
    "    count = dfaux[\"size\"].sum()\n",
    "    \n",
    "    # Get total size for each category\n",
    "    df = df.rename(columns={\"size\":\"total\"})\n",
    "    dfaux = pd.merge(dfaux, df, how=\"left\", on=attribute)\n",
    "    \n",
    "    # Calculate information per row\n",
    "    dfaux[\"info\"]=-(dfaux[\"size\"]/dfaux[\"total\"])*np.log2(dfaux[\"size\"]/dfaux[\"total\"])\n",
    "    \n",
    "    # Calculate entropy\n",
    "    dfaux = dfaux.groupby([attribute],as_index=False).sum()\n",
    "    dfaux[\"entropy\"] = dfaux[\"info\"]*(dfaux[\"size\"]/count)\n",
    "    entropy = dfaux[\"entropy\"].sum()\n",
    "    \n",
    "    return entropy, dfaux\n"
   ]
  },
  {
   "cell_type": "code",
   "execution_count": 13,
   "metadata": {},
   "outputs": [
    {
     "name": "stdout",
     "output_type": "stream",
     "text": [
      "Total Entropies per Attribute:\n",
      "==============================================\n",
      "Course in English? -- 1.5288054271129314\n",
      "Instructor         -- 1.180139907706205\n",
      "Course             -- 1.150869239749956\n",
      "Summer Course?     -- 1.5225056243291086\n",
      "Size of class      -- 0.764631679828438\n"
     ]
    }
   ],
   "source": [
    "[entropyE,t] = entropy(teacher_dataset,\"English?\",\"Quality\")\n",
    "[entropyI,t] = entropy(teacher_dataset,\"Instructor\",\"Quality\")\n",
    "[entropyC,t1] = entropy(teacher_dataset,\"Course\",\"Quality\")\n",
    "[entropyS,t] = entropy(teacher_dataset,\"Summer?\",\"Quality\")\n",
    "[entropyCS,t] = entropy(teacher_dataset,\"Class Size\",\"Quality\")\n",
    "\n",
    "\n",
    "## Print entropies:\n",
    "print(\"Total Entropies per Attribute:\")\n",
    "print(\"==============================================\")\n",
    "print(\"Course in English? -- \"+str(entropyE))\n",
    "print(\"Instructor         -- \"+str(entropyI))\n",
    "print(\"Course             -- \"+str(entropyC))\n",
    "print(\"Summer Course?     -- \"+str(entropyS))\n",
    "print(\"Size of class      -- \"+str(entropyCS))"
   ]
  },
  {
   "cell_type": "markdown",
   "metadata": {},
   "source": [
    "Now, to decide which attribute to put as root, we choose the highest information gain by substracting each entropy from the general entropy:"
   ]
  },
  {
   "cell_type": "code",
   "execution_count": 14,
   "metadata": {},
   "outputs": [
    {
     "name": "stdout",
     "output_type": "stream",
     "text": [
      "General Entropy:\n",
      "1.5845209168501235\n",
      "\n",
      "Information Gain per Attribute:\n",
      "==========================================\n",
      "Course in English? -- 0.05571548973719209\n",
      "Instructor         -- 0.4043810091439186\n",
      "Course             -- 0.4336516771001675\n",
      "Summer Course?     -- 0.0620152925210149\n",
      "Size of class      -- 0.8198892370216855\n"
     ]
    }
   ],
   "source": [
    "## General entropy\n",
    "qualitas = teacher_dataset.groupby([\"Quality\"], as_index=False).size()\n",
    "genEnt = -(qualitas.iloc[0,1]/151)*np.log2(qualitas.iloc[0,1]/151)-(qualitas.iloc[1,1]/151)*np.log2(qualitas.iloc[1,1]/151)-(qualitas.iloc[2,1]/151)*np.log2(qualitas.iloc[2,1]/151)\n",
    "\n",
    "print(\"General Entropy:\")\n",
    "print(genEnt)\n",
    "print(\"\")\n",
    "\n",
    "## Information Gain\n",
    "print(\"Information Gain per Attribute:\")\n",
    "print(\"==========================================\")\n",
    "print(\"Course in English? -- \"+str(genEnt-entropyE))\n",
    "print(\"Instructor         -- \"+str(genEnt-entropyI))\n",
    "print(\"Course             -- \"+str(genEnt-entropyC))\n",
    "print(\"Summer Course?     -- \"+str(genEnt-entropyS))\n",
    "print(\"Size of class      -- \"+str(genEnt-entropyCS))"
   ]
  },
  {
   "cell_type": "markdown",
   "metadata": {},
   "source": [
    "## Iterating to find next levels\n",
    "\n",
    "Our root is **size of class**. This attribute has a lot of values that immediately determine the quality of the class. We will first determine the leaves, which is what attributes cause the tree to be immediately finalized -- we do this by checking where we have entropy 0:"
   ]
  },
  {
   "cell_type": "code",
   "execution_count": 15,
   "metadata": {
    "scrolled": false
   },
   "outputs": [],
   "source": [
    "## INPUT: A dataframe, the attribute's name, and a trinary category\n",
    "def findLeaves(dataframe, attribute, category=\"Quality\"):\n",
    "    df = dataframe.groupby([attribute], as_index=False).count()\n",
    "    df = df[attribute]\n",
    "    leaves = []\n",
    "    subtables = []\n",
    "    for i in df:\n",
    "        dfaux = teacher_dataset.query(\"`\"+str(attribute)+\"` == \"+str(i))\n",
    "        [x, t] = entropy(dfaux, attribute, category)\n",
    "        if  x == 0:\n",
    "            leaves.append(i)\n",
    "        else:\n",
    "            subtables.append(dfaux)\n",
    "    return leaves, subtables\n",
    "\n",
    "[leaves, subtables] = findLeaves(teacher_dataset, \"Class Size\")\n"
   ]
  },
  {
   "cell_type": "markdown",
   "metadata": {},
   "source": [
    "Here is what is found after looking for leaves, and some of the resulting subtables."
   ]
  },
  {
   "cell_type": "code",
   "execution_count": 16,
   "metadata": {},
   "outputs": [
    {
     "name": "stdout",
     "output_type": "stream",
     "text": [
      "Leaves:\n",
      "[3, 5, 7, 9, 12, 16, 18, 22, 26, 28, 32, 33, 34, 35, 39, 43, 44, 45, 46, 48, 49, 51, 54, 55, 58, 66]\n",
      "A sampling of some subtables:\n",
      "     English?  Instructor  Course  Summer?  Class Size  Quality\n",
      "16          2           7      11        2          10        2\n",
      "18          2          13       3        1          10        2\n",
      "55          2           7      11        2          10        2\n",
      "57          2          13       3        1          10        2\n",
      "106         2          23       3        2          10        2\n",
      "144         2          19       4        2          10        1\n",
      "     English?  Instructor  Course  Summer?  Class Size  Quality\n",
      "1           2          15       3        1          17        3\n",
      "40          2          15       3        1          17        3\n",
      "79          1          13       3        1          17        3\n",
      "89          2          14      22        2          17        3\n",
      "121         2          13      14        2          17        3\n",
      "132         2          14      23        2          17        2\n"
     ]
    }
   ],
   "source": [
    "print(\"Leaves:\")\n",
    "print(leaves)\n",
    "print(\"A sampling of some subtables:\")\n",
    "print(subtables[0])\n",
    "print(subtables[5])"
   ]
  },
  {
   "cell_type": "markdown",
   "metadata": {},
   "source": [
    "We now will continue to split it, using the next best attribute (by checking info gain) for each branch."
   ]
  },
  {
   "cell_type": "code",
   "execution_count": 17,
   "metadata": {},
   "outputs": [
    {
     "name": "stdout",
     "output_type": "stream",
     "text": [
      "For branch Class Size = 10, the best category is Course\n",
      "For branch Class Size = 11, the best category is Course\n",
      "For branch Class Size = 13, the best category is Course\n",
      "->Additionally, it's homogenous!\n",
      "For branch Class Size = 14, the best category is Course\n",
      "For branch Class Size = 15, the best category is Course\n",
      "For branch Class Size = 17, the best category is Course\n",
      "For branch Class Size = 19, the best category is Course\n",
      "For branch Class Size = 20, the best category is Course\n",
      "For branch Class Size = 21, the best category is Course\n",
      "For branch Class Size = 23, the best category is Course\n",
      "For branch Class Size = 24, the best category is Course\n",
      "For branch Class Size = 25, the best category is Course\n",
      "For branch Class Size = 27, the best category is Course\n",
      "For branch Class Size = 29, the best category is Course\n",
      "For branch Class Size = 30, the best category is Course\n",
      "->Additionally, it's homogenous!\n",
      "For branch Class Size = 31, the best category is Course\n",
      "For branch Class Size = 36, the best category is Course\n",
      "For branch Class Size = 37, the best category is Course\n",
      "For branch Class Size = 38, the best category is Course\n",
      "For branch Class Size = 42, the best category is Course\n"
     ]
    }
   ],
   "source": [
    "for i in range(0, len(subtables)):\n",
    "    df = subtables[i]\n",
    "    classSize = df.iloc[0,4]\n",
    "    df = df.drop(columns=[\"Class Size\"])\n",
    "    [entropyE,t] = entropy(teacher_dataset,\"English?\",\"Quality\")\n",
    "    [entropyI,t] = entropy(teacher_dataset,\"Instructor\",\"Quality\")\n",
    "    [entropyC,t1] = entropy(teacher_dataset,\"Course\",\"Quality\")\n",
    "    [entropyS,t] = entropy(teacher_dataset,\"Summer?\",\"Quality\")\n",
    "    qualitas = df.groupby([\"Quality\"], as_index=False).size()\n",
    "    size = qualitas.shape\n",
    "    size = size[0]\n",
    "    genEnt = 0\n",
    "    try:\n",
    "        genEnt = -(qualitas.iloc[0,1]/size)*np.log2(qualitas.iloc[0,1]/size)\n",
    "    except IndexError:\n",
    "        pass\n",
    "    try:\n",
    "        genEnt += -(qualitas.iloc[1,1]/size)*np.log2(qualitas.iloc[1,1]/size)\n",
    "    except IndexError:\n",
    "        pass\n",
    "    try:\n",
    "        genEnt += -(qualitas.iloc[2,1]/size)*np.log2(qualitas.iloc[2,1]/size)\n",
    "    except IndexError:\n",
    "        pass\n",
    "    ordered = np.array([(\"English?\", genEnt - entropyE),\n",
    "                        (\"Instructor\",genEnt - entropyI),\n",
    "                        (\"Course\",genEnt - entropyC),\n",
    "                        (\"Summer?\",genEnt - entropyS)], dtype=[(\"x\",\"S10\"),(\"y\", float)])\n",
    "    ordered.sort(order=\"y\")\n",
    "    best = ordered[-1][0]\n",
    "    best = best.decode(\"utf-8\")\n",
    "    \n",
    "    print(\"For branch Class Size = \"+str(classSize)+\", the best category is \"+str(best))\n",
    "    if genEnt == 0:\n",
    "        print(\"->Additionally, it's homogenous!\")"
   ]
  },
  {
   "cell_type": "markdown",
   "metadata": {
    "id": "f-K3nLupFcHC"
   },
   "source": [
    "## Scikit Learn -- Training a decision tree\n",
    "First, we import the required libraries to build the tree."
   ]
  },
  {
   "cell_type": "code",
   "execution_count": 18,
   "metadata": {
    "executionInfo": {
     "elapsed": 856,
     "status": "ok",
     "timestamp": 1648571422773,
     "user": {
      "displayName": "",
      "userId": ""
     },
     "user_tz": 360
    },
    "id": "dfnmZI4Lfkyt"
   },
   "outputs": [],
   "source": [
    "import matplotlib.pyplot as plt\n",
    "import seaborn as sns\n",
    "\n",
    "from pandas.api.types import is_numeric_dtype\n",
    "\n",
    "from sklearn.model_selection import train_test_split\n",
    "from sklearn import metrics\n",
    "\n",
    "sns.set()\n",
    "\n",
    "RANDOM_STATE = 10"
   ]
  },
  {
   "cell_type": "markdown",
   "metadata": {
    "id": "iORfVOoWzE1D"
   },
   "source": [
    "As stated before, our classification attribute is Quality which will be denoted by the variable \"Y\".\n",
    "The test set will be randomly chosen from the complete dataset. "
   ]
  },
  {
   "cell_type": "code",
   "execution_count": 19,
   "metadata": {
    "executionInfo": {
     "elapsed": 432,
     "status": "ok",
     "timestamp": 1648571425720,
     "user": {
      "displayName": "",
      "userId": ""
     },
     "user_tz": 360
    },
    "id": "B_HbVfCHv3JR"
   },
   "outputs": [],
   "source": [
    "X = teacher_dataset[[\"English?\",\"Instructor\",\"Course\",\"Summer?\",\"Class Size\"]]\n",
    "Y = teacher_dataset[\"Quality\"]\n",
    "\n",
    "from sklearn.preprocessing import LabelEncoder\n",
    "\n",
    "labelEncoder = LabelEncoder()\n",
    "Y = labelEncoder.fit_transform(Y)\n",
    "\n",
    "X_train, X_test, y_train, y_test = train_test_split(X, Y, test_size=0.2, random_state=RANDOM_STATE)"
   ]
  },
  {
   "cell_type": "markdown",
   "metadata": {
    "id": "Eajw616hznsz"
   },
   "source": [
    "The criteria to build the tree is defined by the entropy. It is produced a cross validation to evaluate the performance of the classifier."
   ]
  },
  {
   "cell_type": "code",
   "execution_count": 20,
   "metadata": {
    "colab": {
     "base_uri": "https://localhost:8080/"
    },
    "executionInfo": {
     "elapsed": 858,
     "status": "ok",
     "timestamp": 1648571432338,
     "user": {
      "displayName": "",
      "userId": ""
     },
     "user_tz": 360
    },
    "id": "lRwRlVLBwUxV",
    "outputId": "c0a4244c-cb55-4946-ac58-df74e7e15c89"
   },
   "outputs": [
    {
     "name": "stdout",
     "output_type": "stream",
     "text": [
      "              precision    recall  f1-score   support\n",
      "\n",
      "           0       0.86      0.55      0.67        11\n",
      "           1       0.60      0.90      0.72        10\n",
      "           2       0.67      0.60      0.63        10\n",
      "\n",
      "    accuracy                           0.68        31\n",
      "   macro avg       0.71      0.68      0.67        31\n",
      "weighted avg       0.71      0.68      0.67        31\n",
      "\n"
     ]
    }
   ],
   "source": [
    "from sklearn import tree\n",
    "from sklearn.model_selection import cross_val_score\n",
    "\n",
    "\n",
    "clf = tree.DecisionTreeClassifier(criterion=\"entropy\", random_state=RANDOM_STATE)\n",
    "\n",
    "\n",
    "\n",
    "cross_val_score(clf, X_train, y_train, cv=5)\n",
    "\n",
    "clf = clf.fit(X_train, y_train)\n",
    "clf.score(X_test, y_test)\n",
    "\n",
    "predicted = clf.predict(X_test)\n",
    "expected = y_test\n",
    "print(metrics.classification_report(expected, predicted))"
   ]
  },
  {
   "cell_type": "code",
   "execution_count": 21,
   "metadata": {
    "colab": {
     "base_uri": "https://localhost:8080/",
     "height": 35
    },
    "executionInfo": {
     "elapsed": 659,
     "status": "ok",
     "timestamp": 1648571439932,
     "user": {
      "displayName": "",
      "userId": ""
     },
     "user_tz": 360
    },
    "id": "6RjCtukh12Ae",
    "outputId": "2b375203-2b85-4d5b-bf95-471f565d2d34"
   },
   "outputs": [
    {
     "data": {
      "text/plain": [
       "'Teacher.pdf'"
      ]
     },
     "execution_count": 21,
     "metadata": {},
     "output_type": "execute_result"
    }
   ],
   "source": [
    "import graphviz \n",
    "dot_data = tree.export_graphviz(clf, out_file=None) \n",
    "graph = graphviz.Source(dot_data) \n",
    "graph.render(\"Teacher\")"
   ]
  },
  {
   "attachments": {
    "imagen.png": {
     "image/png": "[encoded data removed]"
    }
   },
   "cell_type": "markdown",
   "metadata": {},
   "source": [
    "![imagen.png](attachment:imagen.png)"
   ]
  },
  {
   "cell_type": "markdown",
   "metadata": {
    "id": "oUYeA1-cjqRC"
   },
   "source": [
    "It can be observed that the root class is X[2] that corresponds to the course and against the manual approach it is different. We attribute this to the split of the training and testing set, therefore the entropy changes due to the reduction of the size regarding the training set."
   ]
  },
  {
   "cell_type": "markdown",
   "metadata": {},
   "source": [
    "From here, we can continue checking each level iteratively. For this, we will use Scikit Learn's Decision Tree model using an 80/20 split of data for training and testing."
   ]
  },
  {
   "cell_type": "markdown",
   "metadata": {},
   "source": [
    "## k-Nearest Neighbors (k-NN)\n",
    "\n",
    "K-NN is a classification clustering method. This method is one of the simplest learning algorithms for data classification. When a test sample is provided to the algorithm for class prediction, it uses a majority vote of the k nearest (neighboring) points to determine the corresponding class. This makes the method more robust against outliers or mislabeled data.\n",
    "\n",
    "This method is of interest to us due to its simplicity. It allows for a 'benchmark' of how difficult the dataset is, and is a good comparison point for more complex methods (such as our decision tree)."
   ]
  },
  {
   "cell_type": "code",
   "execution_count": 22,
   "metadata": {},
   "outputs": [
    {
     "data": {
      "text/html": [
       "<div>\n",
       "<style scoped>\n",
       "    .dataframe tbody tr th:only-of-type {\n",
       "        vertical-align: middle;\n",
       "    }\n",
       "\n",
       "    .dataframe tbody tr th {\n",
       "        vertical-align: top;\n",
       "    }\n",
       "\n",
       "    .dataframe thead th {\n",
       "        text-align: right;\n",
       "    }\n",
       "</style>\n",
       "<table border=\"1\" class=\"dataframe\">\n",
       "  <thead>\n",
       "    <tr style=\"text-align: right;\">\n",
       "      <th></th>\n",
       "      <th>English speaker</th>\n",
       "      <th>Course instructor</th>\n",
       "      <th>Course</th>\n",
       "      <th>Semester</th>\n",
       "      <th>Size</th>\n",
       "      <th>Attribute</th>\n",
       "    </tr>\n",
       "  </thead>\n",
       "  <tbody>\n",
       "    <tr>\n",
       "      <th>0</th>\n",
       "      <td>1</td>\n",
       "      <td>23</td>\n",
       "      <td>3</td>\n",
       "      <td>1</td>\n",
       "      <td>19</td>\n",
       "      <td>3</td>\n",
       "    </tr>\n",
       "    <tr>\n",
       "      <th>1</th>\n",
       "      <td>2</td>\n",
       "      <td>15</td>\n",
       "      <td>3</td>\n",
       "      <td>1</td>\n",
       "      <td>17</td>\n",
       "      <td>3</td>\n",
       "    </tr>\n",
       "    <tr>\n",
       "      <th>2</th>\n",
       "      <td>1</td>\n",
       "      <td>23</td>\n",
       "      <td>3</td>\n",
       "      <td>2</td>\n",
       "      <td>49</td>\n",
       "      <td>3</td>\n",
       "    </tr>\n",
       "    <tr>\n",
       "      <th>3</th>\n",
       "      <td>1</td>\n",
       "      <td>5</td>\n",
       "      <td>2</td>\n",
       "      <td>2</td>\n",
       "      <td>33</td>\n",
       "      <td>3</td>\n",
       "    </tr>\n",
       "    <tr>\n",
       "      <th>4</th>\n",
       "      <td>2</td>\n",
       "      <td>7</td>\n",
       "      <td>11</td>\n",
       "      <td>2</td>\n",
       "      <td>55</td>\n",
       "      <td>3</td>\n",
       "    </tr>\n",
       "    <tr>\n",
       "      <th>...</th>\n",
       "      <td>...</td>\n",
       "      <td>...</td>\n",
       "      <td>...</td>\n",
       "      <td>...</td>\n",
       "      <td>...</td>\n",
       "      <td>...</td>\n",
       "    </tr>\n",
       "    <tr>\n",
       "      <th>146</th>\n",
       "      <td>2</td>\n",
       "      <td>3</td>\n",
       "      <td>2</td>\n",
       "      <td>2</td>\n",
       "      <td>26</td>\n",
       "      <td>1</td>\n",
       "    </tr>\n",
       "    <tr>\n",
       "      <th>147</th>\n",
       "      <td>2</td>\n",
       "      <td>10</td>\n",
       "      <td>3</td>\n",
       "      <td>2</td>\n",
       "      <td>12</td>\n",
       "      <td>1</td>\n",
       "    </tr>\n",
       "    <tr>\n",
       "      <th>148</th>\n",
       "      <td>1</td>\n",
       "      <td>18</td>\n",
       "      <td>7</td>\n",
       "      <td>2</td>\n",
       "      <td>48</td>\n",
       "      <td>1</td>\n",
       "    </tr>\n",
       "    <tr>\n",
       "      <th>149</th>\n",
       "      <td>2</td>\n",
       "      <td>22</td>\n",
       "      <td>1</td>\n",
       "      <td>2</td>\n",
       "      <td>51</td>\n",
       "      <td>1</td>\n",
       "    </tr>\n",
       "    <tr>\n",
       "      <th>150</th>\n",
       "      <td>2</td>\n",
       "      <td>2</td>\n",
       "      <td>10</td>\n",
       "      <td>2</td>\n",
       "      <td>27</td>\n",
       "      <td>1</td>\n",
       "    </tr>\n",
       "  </tbody>\n",
       "</table>\n",
       "<p>151 rows × 6 columns</p>\n",
       "</div>"
      ],
      "text/plain": [
       "     English speaker  Course instructor  Course  Semester  Size  Attribute\n",
       "0                  1                 23       3         1    19          3\n",
       "1                  2                 15       3         1    17          3\n",
       "2                  1                 23       3         2    49          3\n",
       "3                  1                  5       2         2    33          3\n",
       "4                  2                  7      11         2    55          3\n",
       "..               ...                ...     ...       ...   ...        ...\n",
       "146                2                  3       2         2    26          1\n",
       "147                2                 10       3         2    12          1\n",
       "148                1                 18       7         2    48          1\n",
       "149                2                 22       1         2    51          1\n",
       "150                2                  2      10         2    27          1\n",
       "\n",
       "[151 rows x 6 columns]"
      ]
     },
     "execution_count": 22,
     "metadata": {},
     "output_type": "execute_result"
    }
   ],
   "source": [
    "from sklearn.neighbors import NearestNeighbors, KNeighborsClassifier, KNeighborsRegressor\n",
    "from sklearn.model_selection import train_test_split\n",
    "from sklearn import metrics\n",
    "from sklearn.model_selection import cross_val_predict\n",
    "from sklearn import neighbors, datasets\n",
    "\n",
    "\n",
    "tae_data = pd.read_csv('tae.data',header=None,  names=[\"English speaker\", \"Course instructor\", \"Course\", \"Semester\", \"Size\", \"Attribute\"])\n",
    "tae_data"
   ]
  },
  {
   "cell_type": "markdown",
   "metadata": {},
   "source": [
    "The first step is to save all our attributes excluding the class attribute in one variable (X)."
   ]
  },
  {
   "cell_type": "code",
   "execution_count": 23,
   "metadata": {},
   "outputs": [
    {
     "data": {
      "text/html": [
       "<div>\n",
       "<style scoped>\n",
       "    .dataframe tbody tr th:only-of-type {\n",
       "        vertical-align: middle;\n",
       "    }\n",
       "\n",
       "    .dataframe tbody tr th {\n",
       "        vertical-align: top;\n",
       "    }\n",
       "\n",
       "    .dataframe thead th {\n",
       "        text-align: right;\n",
       "    }\n",
       "</style>\n",
       "<table border=\"1\" class=\"dataframe\">\n",
       "  <thead>\n",
       "    <tr style=\"text-align: right;\">\n",
       "      <th></th>\n",
       "      <th>English speaker</th>\n",
       "      <th>Course instructor</th>\n",
       "      <th>Course</th>\n",
       "      <th>Semester</th>\n",
       "      <th>Size</th>\n",
       "    </tr>\n",
       "  </thead>\n",
       "  <tbody>\n",
       "    <tr>\n",
       "      <th>0</th>\n",
       "      <td>1</td>\n",
       "      <td>23</td>\n",
       "      <td>3</td>\n",
       "      <td>1</td>\n",
       "      <td>19</td>\n",
       "    </tr>\n",
       "    <tr>\n",
       "      <th>1</th>\n",
       "      <td>2</td>\n",
       "      <td>15</td>\n",
       "      <td>3</td>\n",
       "      <td>1</td>\n",
       "      <td>17</td>\n",
       "    </tr>\n",
       "    <tr>\n",
       "      <th>2</th>\n",
       "      <td>1</td>\n",
       "      <td>23</td>\n",
       "      <td>3</td>\n",
       "      <td>2</td>\n",
       "      <td>49</td>\n",
       "    </tr>\n",
       "    <tr>\n",
       "      <th>3</th>\n",
       "      <td>1</td>\n",
       "      <td>5</td>\n",
       "      <td>2</td>\n",
       "      <td>2</td>\n",
       "      <td>33</td>\n",
       "    </tr>\n",
       "    <tr>\n",
       "      <th>4</th>\n",
       "      <td>2</td>\n",
       "      <td>7</td>\n",
       "      <td>11</td>\n",
       "      <td>2</td>\n",
       "      <td>55</td>\n",
       "    </tr>\n",
       "    <tr>\n",
       "      <th>...</th>\n",
       "      <td>...</td>\n",
       "      <td>...</td>\n",
       "      <td>...</td>\n",
       "      <td>...</td>\n",
       "      <td>...</td>\n",
       "    </tr>\n",
       "    <tr>\n",
       "      <th>146</th>\n",
       "      <td>2</td>\n",
       "      <td>3</td>\n",
       "      <td>2</td>\n",
       "      <td>2</td>\n",
       "      <td>26</td>\n",
       "    </tr>\n",
       "    <tr>\n",
       "      <th>147</th>\n",
       "      <td>2</td>\n",
       "      <td>10</td>\n",
       "      <td>3</td>\n",
       "      <td>2</td>\n",
       "      <td>12</td>\n",
       "    </tr>\n",
       "    <tr>\n",
       "      <th>148</th>\n",
       "      <td>1</td>\n",
       "      <td>18</td>\n",
       "      <td>7</td>\n",
       "      <td>2</td>\n",
       "      <td>48</td>\n",
       "    </tr>\n",
       "    <tr>\n",
       "      <th>149</th>\n",
       "      <td>2</td>\n",
       "      <td>22</td>\n",
       "      <td>1</td>\n",
       "      <td>2</td>\n",
       "      <td>51</td>\n",
       "    </tr>\n",
       "    <tr>\n",
       "      <th>150</th>\n",
       "      <td>2</td>\n",
       "      <td>2</td>\n",
       "      <td>10</td>\n",
       "      <td>2</td>\n",
       "      <td>27</td>\n",
       "    </tr>\n",
       "  </tbody>\n",
       "</table>\n",
       "<p>151 rows × 5 columns</p>\n",
       "</div>"
      ],
      "text/plain": [
       "     English speaker  Course instructor  Course  Semester  Size\n",
       "0                  1                 23       3         1    19\n",
       "1                  2                 15       3         1    17\n",
       "2                  1                 23       3         2    49\n",
       "3                  1                  5       2         2    33\n",
       "4                  2                  7      11         2    55\n",
       "..               ...                ...     ...       ...   ...\n",
       "146                2                  3       2         2    26\n",
       "147                2                 10       3         2    12\n",
       "148                1                 18       7         2    48\n",
       "149                2                 22       1         2    51\n",
       "150                2                  2      10         2    27\n",
       "\n",
       "[151 rows x 5 columns]"
      ]
     },
     "execution_count": 23,
     "metadata": {},
     "output_type": "execute_result"
    }
   ],
   "source": [
    "X = tae_data[tae_data.columns[:5]]\n",
    "X"
   ]
  },
  {
   "cell_type": "markdown",
   "metadata": {},
   "source": [
    "Then, the class attribute will also be stored in the variable that will be our target variable."
   ]
  },
  {
   "cell_type": "code",
   "execution_count": 24,
   "metadata": {},
   "outputs": [
    {
     "data": {
      "text/html": [
       "<div>\n",
       "<style scoped>\n",
       "    .dataframe tbody tr th:only-of-type {\n",
       "        vertical-align: middle;\n",
       "    }\n",
       "\n",
       "    .dataframe tbody tr th {\n",
       "        vertical-align: top;\n",
       "    }\n",
       "\n",
       "    .dataframe thead th {\n",
       "        text-align: right;\n",
       "    }\n",
       "</style>\n",
       "<table border=\"1\" class=\"dataframe\">\n",
       "  <thead>\n",
       "    <tr style=\"text-align: right;\">\n",
       "      <th></th>\n",
       "      <th>Attribute</th>\n",
       "    </tr>\n",
       "  </thead>\n",
       "  <tbody>\n",
       "    <tr>\n",
       "      <th>0</th>\n",
       "      <td>3</td>\n",
       "    </tr>\n",
       "    <tr>\n",
       "      <th>1</th>\n",
       "      <td>3</td>\n",
       "    </tr>\n",
       "    <tr>\n",
       "      <th>2</th>\n",
       "      <td>3</td>\n",
       "    </tr>\n",
       "    <tr>\n",
       "      <th>3</th>\n",
       "      <td>3</td>\n",
       "    </tr>\n",
       "    <tr>\n",
       "      <th>4</th>\n",
       "      <td>3</td>\n",
       "    </tr>\n",
       "    <tr>\n",
       "      <th>...</th>\n",
       "      <td>...</td>\n",
       "    </tr>\n",
       "    <tr>\n",
       "      <th>146</th>\n",
       "      <td>1</td>\n",
       "    </tr>\n",
       "    <tr>\n",
       "      <th>147</th>\n",
       "      <td>1</td>\n",
       "    </tr>\n",
       "    <tr>\n",
       "      <th>148</th>\n",
       "      <td>1</td>\n",
       "    </tr>\n",
       "    <tr>\n",
       "      <th>149</th>\n",
       "      <td>1</td>\n",
       "    </tr>\n",
       "    <tr>\n",
       "      <th>150</th>\n",
       "      <td>1</td>\n",
       "    </tr>\n",
       "  </tbody>\n",
       "</table>\n",
       "<p>151 rows × 1 columns</p>\n",
       "</div>"
      ],
      "text/plain": [
       "     Attribute\n",
       "0            3\n",
       "1            3\n",
       "2            3\n",
       "3            3\n",
       "4            3\n",
       "..         ...\n",
       "146          1\n",
       "147          1\n",
       "148          1\n",
       "149          1\n",
       "150          1\n",
       "\n",
       "[151 rows x 1 columns]"
      ]
     },
     "execution_count": 24,
     "metadata": {},
     "output_type": "execute_result"
    }
   ],
   "source": [
    "y = tae_data[tae_data.columns[5:6]]\n",
    "y"
   ]
  },
  {
   "cell_type": "code",
   "execution_count": 25,
   "metadata": {},
   "outputs": [
    {
     "data": {
      "text/plain": [
       "array([3, 3, 3, 3, 3, 3, 3, 3, 3, 3, 3, 3, 3, 3, 2, 2, 2, 2, 2, 2, 2, 2,\n",
       "       2, 2, 2, 2, 2, 2, 1, 1, 1, 1, 1, 1, 1, 1, 1, 1, 1, 3, 3, 3, 3, 3,\n",
       "       3, 3, 3, 3, 3, 3, 3, 3, 3, 2, 2, 2, 2, 2, 2, 2, 2, 2, 2, 2, 2, 2,\n",
       "       2, 1, 1, 1, 1, 1, 1, 1, 1, 1, 1, 1, 3, 3, 3, 3, 3, 3, 3, 3, 3, 3,\n",
       "       3, 3, 3, 3, 3, 3, 3, 2, 2, 2, 2, 2, 2, 2, 2, 2, 2, 2, 2, 1, 1, 1,\n",
       "       1, 1, 1, 1, 1, 1, 1, 1, 1, 1, 1, 3, 3, 3, 3, 3, 3, 3, 2, 2, 2, 2,\n",
       "       2, 2, 2, 2, 2, 2, 1, 1, 1, 1, 1, 1, 1, 1, 1, 1, 1, 1, 1],\n",
       "      dtype=int64)"
      ]
     },
     "execution_count": 25,
     "metadata": {},
     "output_type": "execute_result"
    }
   ],
   "source": [
    "y.values.ravel()"
   ]
  },
  {
   "cell_type": "markdown",
   "metadata": {},
   "source": [
    "The train_test_split() function receives four arguments. The first argument is the array containing the features, the second argument is the array containing the target variable. The test_size argument is used to specify the amount of data to be split and stored in the test set. As we have specified 0.2, 20% of the original data will be stored in the test set, while 80% of the original data will be used for training. "
   ]
  },
  {
   "cell_type": "code",
   "execution_count": 26,
   "metadata": {},
   "outputs": [],
   "source": [
    "X_train, X_test, y_train, y_test = train_test_split(X, y.values.ravel(), test_size=0.2,random_state=42, stratify=y.values.ravel())"
   ]
  },
  {
   "cell_type": "markdown",
   "metadata": {},
   "source": [
    "The k-NN classifier is initialized with 4 neighbors. The .fit() method is used to fit this classifier to our training data. Finally, using the .score() method on the test data, we obtain a value between 0 and 1 indicating the accuracy of the classifier."
   ]
  },
  {
   "cell_type": "code",
   "execution_count": 27,
   "metadata": {},
   "outputs": [
    {
     "name": "stdout",
     "output_type": "stream",
     "text": [
      "Accuracy of K-NN classifier on training set: 0.61\n",
      "Accuracy of K-NN classifier on test set: 0.42\n"
     ]
    }
   ],
   "source": [
    "knn = KNeighborsClassifier(n_neighbors=4)\n",
    "knn.fit(X_train, y_train)\n",
    "print('Accuracy of K-NN classifier on training set: {:.2f}'\n",
    "     .format(knn.score(X_train, y_train)))\n",
    "print('Accuracy of K-NN classifier on test set: {:.2f}'\n",
    "     .format(knn.score(X_test, y_test)))"
   ]
  },
  {
   "cell_type": "markdown",
   "metadata": {},
   "source": [
    "The predict method is used to predict the class labels for the data provided. Precision tells us how many of the actual positives were correctly predicted to be positive, recall tells us how many of the predicted positives were actually positive. The F1 score combines the two into a single number that can be used as a fair judge of the model and is equal to the harmonic mean of precision and recall. The value of the F1 score will always lie between 0 (if either precision or recall is zero) and 1 (if both precision and recall are 1). The higher the score, the better the model's performance is said to be. Finally, the support is the number of samples of the true response that lie in that class. The reported averages include macro average (averaging the unweighted mean per label), weighted average (averaging the support-weighted mean per label), and sample average (only for multilabel classification). The precision and recall presented are not very good, but recall is better than precision, indicating that fraudulent cases were better predicted."
   ]
  },
  {
   "cell_type": "code",
   "execution_count": 28,
   "metadata": {},
   "outputs": [
    {
     "name": "stdout",
     "output_type": "stream",
     "text": [
      "              precision    recall  f1-score   support\n",
      "\n",
      "           1       0.42      0.50      0.45        10\n",
      "           2       0.40      0.60      0.48        10\n",
      "           3       0.50      0.18      0.27        11\n",
      "\n",
      "    accuracy                           0.42        31\n",
      "   macro avg       0.44      0.43      0.40        31\n",
      "weighted avg       0.44      0.42      0.40        31\n",
      "\n"
     ]
    }
   ],
   "source": [
    "predicted = knn.predict(X_test)\n",
    "expected = y_test\n",
    "print(metrics.classification_report(expected, predicted))"
   ]
  },
  {
   "cell_type": "code",
   "execution_count": 29,
   "metadata": {},
   "outputs": [],
   "source": [
    "knn = KNeighborsClassifier(n_neighbors=4)\n",
    "y_pred = cross_val_predict(knn, X, y.values.ravel(), cv=5)"
   ]
  },
  {
   "cell_type": "code",
   "execution_count": 30,
   "metadata": {},
   "outputs": [
    {
     "data": {
      "text/plain": [
       "array([3, 3, 3, 1, 1, 2, 1, 3, 3, 3, 3, 1, 3, 2, 2, 2, 2, 3, 1, 2, 2, 2,\n",
       "       1, 1, 2, 2, 3, 2, 3, 1, 1, 1, 1, 1, 1, 1, 2, 1, 2, 3, 3, 3, 1, 1,\n",
       "       3, 1, 3, 3, 3, 3, 1, 3, 2, 2, 2, 2, 3, 1, 2, 1, 2, 1, 1, 2, 2, 3,\n",
       "       2, 3, 1, 1, 3, 1, 1, 1, 1, 1, 1, 2, 1, 3, 3, 1, 1, 2, 2, 1, 3, 3,\n",
       "       1, 2, 2, 2, 3, 3, 2, 2, 3, 2, 1, 3, 3, 3, 3, 2, 3, 1, 1, 1, 1, 1,\n",
       "       3, 1, 3, 3, 1, 2, 3, 1, 1, 3, 2, 2, 2, 1, 1, 1, 3, 2, 1, 1, 3, 1,\n",
       "       3, 3, 1, 3, 2, 1, 1, 3, 1, 3, 3, 1, 1, 2, 2, 1, 2, 2, 1],\n",
       "      dtype=int64)"
      ]
     },
     "execution_count": 30,
     "metadata": {},
     "output_type": "execute_result"
    }
   ],
   "source": [
    "y_pred"
   ]
  },
  {
   "cell_type": "code",
   "execution_count": 31,
   "metadata": {},
   "outputs": [],
   "source": [
    "from sklearn.metrics import mean_squared_error, r2_score"
   ]
  },
  {
   "cell_type": "markdown",
   "metadata": {},
   "source": [
    "Mean square error is the mean square error of the difference between the actual and predicted values, the smaller the error the better the result. \n",
    "\n",
    "R2 is the correlation between the dependent variable and the set of independent variables, the higher the correlation the better the result."
   ]
  },
  {
   "cell_type": "code",
   "execution_count": 32,
   "metadata": {},
   "outputs": [
    {
     "name": "stdout",
     "output_type": "stream",
     "text": [
      "1.0463576158940397\n",
      "-0.565280146962341\n"
     ]
    }
   ],
   "source": [
    "print(mean_squared_error(y,y_pred))\n",
    "print(r2_score(y,y_pred))"
   ]
  },
  {
   "cell_type": "markdown",
   "metadata": {},
   "source": [
    "Using cross validation to find optimal number of neighbors. Using cross-validation ensures that we do not overfit or underfit the data as we have used the entire dataset for training and testing. k-Fold Cross Validation: Split the data into k folds, for k runs, use one fold as testing and the rest as training. Average over the k folds. "
   ]
  },
  {
   "cell_type": "code",
   "execution_count": 33,
   "metadata": {},
   "outputs": [],
   "source": [
    "error = []\n",
    "for k in range(1,26):\n",
    "    knn = KNeighborsClassifier(n_neighbors=k)\n",
    "    y_pred = cross_val_predict(knn, X, y.values.ravel(), cv=5)\n",
    "    error.append(mean_squared_error(y,y_pred)) "
   ]
  },
  {
   "cell_type": "code",
   "execution_count": 34,
   "metadata": {},
   "outputs": [],
   "source": [
    "import matplotlib.pyplot as plt"
   ]
  },
  {
   "cell_type": "code",
   "execution_count": 35,
   "metadata": {},
   "outputs": [
    {
     "data": {
      "text/plain": [
       "[<matplotlib.lines.Line2D at 0x223f7895f10>]"
      ]
     },
     "execution_count": 35,
     "metadata": {},
     "output_type": "execute_result"
    },
    {
     "data": {
      "image/png": "[encoded data removed]",
      "text/plain": [
       "<Figure size 432x288 with 1 Axes>"
      ]
     },
     "metadata": {},
     "output_type": "display_data"
    }
   ],
   "source": [
    "plt.plot(range(1,26),error)"
   ]
  },
  {
   "cell_type": "markdown",
   "metadata": {},
   "source": [
    "As can be seen in the graph, the optimal number of neighbors is 4, since it presents the lowest error."
   ]
  },
  {
   "cell_type": "markdown",
   "metadata": {},
   "source": [
    "# Linear Discriminant Analysis (LDA)"
   ]
  },
  {
   "cell_type": "markdown",
   "metadata": {},
   "source": [
    "LDA is a generalization of Fisher's linear discriminant, and it is a classifier used to find a linear combination of features that characterizes or separates two or more classes of data.  It has a linear decision boundary, generated by fitting class conditional densities to the data and using Bayes’ rule. The model fits a Gaussian density function to each class, assuming that all classes share the same covariance matrix.\n",
    "\n",
    "This method is of interest to us since it is a quick and simple method, but not quite as simple as a normal linear regression and completely different as kNN, as it uses a linear decision boundary instead of just close neighbors. This allows us to compare the two methods (neighbors vs decision boundaries) and check which one achieves better results."
   ]
  },
  {
   "cell_type": "markdown",
   "metadata": {},
   "source": [
    "First, we import some basic libraries and our database. "
   ]
  },
  {
   "cell_type": "code",
   "execution_count": 36,
   "metadata": {},
   "outputs": [
    {
     "data": {
      "text/html": [
       "<div>\n",
       "<style scoped>\n",
       "    .dataframe tbody tr th:only-of-type {\n",
       "        vertical-align: middle;\n",
       "    }\n",
       "\n",
       "    .dataframe tbody tr th {\n",
       "        vertical-align: top;\n",
       "    }\n",
       "\n",
       "    .dataframe thead th {\n",
       "        text-align: right;\n",
       "    }\n",
       "</style>\n",
       "<table border=\"1\" class=\"dataframe\">\n",
       "  <thead>\n",
       "    <tr style=\"text-align: right;\">\n",
       "      <th></th>\n",
       "      <th>English?</th>\n",
       "      <th>Instructor</th>\n",
       "      <th>Course</th>\n",
       "      <th>Summer?</th>\n",
       "      <th>Class Size</th>\n",
       "      <th>Quality</th>\n",
       "    </tr>\n",
       "  </thead>\n",
       "  <tbody>\n",
       "    <tr>\n",
       "      <th>0</th>\n",
       "      <td>1</td>\n",
       "      <td>23</td>\n",
       "      <td>3</td>\n",
       "      <td>1</td>\n",
       "      <td>19</td>\n",
       "      <td>3</td>\n",
       "    </tr>\n",
       "    <tr>\n",
       "      <th>1</th>\n",
       "      <td>2</td>\n",
       "      <td>15</td>\n",
       "      <td>3</td>\n",
       "      <td>1</td>\n",
       "      <td>17</td>\n",
       "      <td>3</td>\n",
       "    </tr>\n",
       "    <tr>\n",
       "      <th>2</th>\n",
       "      <td>1</td>\n",
       "      <td>23</td>\n",
       "      <td>3</td>\n",
       "      <td>2</td>\n",
       "      <td>49</td>\n",
       "      <td>3</td>\n",
       "    </tr>\n",
       "    <tr>\n",
       "      <th>3</th>\n",
       "      <td>1</td>\n",
       "      <td>5</td>\n",
       "      <td>2</td>\n",
       "      <td>2</td>\n",
       "      <td>33</td>\n",
       "      <td>3</td>\n",
       "    </tr>\n",
       "    <tr>\n",
       "      <th>4</th>\n",
       "      <td>2</td>\n",
       "      <td>7</td>\n",
       "      <td>11</td>\n",
       "      <td>2</td>\n",
       "      <td>55</td>\n",
       "      <td>3</td>\n",
       "    </tr>\n",
       "    <tr>\n",
       "      <th>...</th>\n",
       "      <td>...</td>\n",
       "      <td>...</td>\n",
       "      <td>...</td>\n",
       "      <td>...</td>\n",
       "      <td>...</td>\n",
       "      <td>...</td>\n",
       "    </tr>\n",
       "    <tr>\n",
       "      <th>146</th>\n",
       "      <td>2</td>\n",
       "      <td>3</td>\n",
       "      <td>2</td>\n",
       "      <td>2</td>\n",
       "      <td>26</td>\n",
       "      <td>1</td>\n",
       "    </tr>\n",
       "    <tr>\n",
       "      <th>147</th>\n",
       "      <td>2</td>\n",
       "      <td>10</td>\n",
       "      <td>3</td>\n",
       "      <td>2</td>\n",
       "      <td>12</td>\n",
       "      <td>1</td>\n",
       "    </tr>\n",
       "    <tr>\n",
       "      <th>148</th>\n",
       "      <td>1</td>\n",
       "      <td>18</td>\n",
       "      <td>7</td>\n",
       "      <td>2</td>\n",
       "      <td>48</td>\n",
       "      <td>1</td>\n",
       "    </tr>\n",
       "    <tr>\n",
       "      <th>149</th>\n",
       "      <td>2</td>\n",
       "      <td>22</td>\n",
       "      <td>1</td>\n",
       "      <td>2</td>\n",
       "      <td>51</td>\n",
       "      <td>1</td>\n",
       "    </tr>\n",
       "    <tr>\n",
       "      <th>150</th>\n",
       "      <td>2</td>\n",
       "      <td>2</td>\n",
       "      <td>10</td>\n",
       "      <td>2</td>\n",
       "      <td>27</td>\n",
       "      <td>1</td>\n",
       "    </tr>\n",
       "  </tbody>\n",
       "</table>\n",
       "<p>151 rows × 6 columns</p>\n",
       "</div>"
      ],
      "text/plain": [
       "     English?  Instructor  Course  Summer?  Class Size  Quality\n",
       "0           1          23       3        1          19        3\n",
       "1           2          15       3        1          17        3\n",
       "2           1          23       3        2          49        3\n",
       "3           1           5       2        2          33        3\n",
       "4           2           7      11        2          55        3\n",
       "..        ...         ...     ...      ...         ...      ...\n",
       "146         2           3       2        2          26        1\n",
       "147         2          10       3        2          12        1\n",
       "148         1          18       7        2          48        1\n",
       "149         2          22       1        2          51        1\n",
       "150         2           2      10        2          27        1\n",
       "\n",
       "[151 rows x 6 columns]"
      ]
     },
     "execution_count": 36,
     "metadata": {},
     "output_type": "execute_result"
    }
   ],
   "source": [
    "#Basic imports\n",
    "import pandas as pd\n",
    "import numpy as np\n",
    "\n",
    "#Database import\n",
    "tae = pd.read_csv('tae.data',names=[\"English?\",\"Instructor\",\"Course\",\"Summer?\",\"Class Size\",\"Quality\"])\n",
    "tae"
   ]
  },
  {
   "cell_type": "markdown",
   "metadata": {},
   "source": [
    "We will also need some imports from Scikit-learn."
   ]
  },
  {
   "cell_type": "code",
   "execution_count": 37,
   "metadata": {},
   "outputs": [],
   "source": [
    "#Imports needed for LDA\n",
    "\n",
    "from sklearn.model_selection import train_test_split\n",
    "from sklearn.discriminant_analysis import LinearDiscriminantAnalysis\n",
    "from sklearn import metrics\n",
    "from sklearn.metrics import mean_squared_error, r2_score"
   ]
  },
  {
   "cell_type": "markdown",
   "metadata": {},
   "source": [
    "We will now divide our data into two. X will be our data from all attributes except the last one, and y will be the rest of the data (the class attribute)."
   ]
  },
  {
   "cell_type": "code",
   "execution_count": 38,
   "metadata": {},
   "outputs": [
    {
     "data": {
      "text/html": [
       "<div>\n",
       "<style scoped>\n",
       "    .dataframe tbody tr th:only-of-type {\n",
       "        vertical-align: middle;\n",
       "    }\n",
       "\n",
       "    .dataframe tbody tr th {\n",
       "        vertical-align: top;\n",
       "    }\n",
       "\n",
       "    .dataframe thead th {\n",
       "        text-align: right;\n",
       "    }\n",
       "</style>\n",
       "<table border=\"1\" class=\"dataframe\">\n",
       "  <thead>\n",
       "    <tr style=\"text-align: right;\">\n",
       "      <th></th>\n",
       "      <th>English?</th>\n",
       "      <th>Instructor</th>\n",
       "      <th>Course</th>\n",
       "      <th>Summer?</th>\n",
       "      <th>Class Size</th>\n",
       "    </tr>\n",
       "  </thead>\n",
       "  <tbody>\n",
       "    <tr>\n",
       "      <th>0</th>\n",
       "      <td>1</td>\n",
       "      <td>23</td>\n",
       "      <td>3</td>\n",
       "      <td>1</td>\n",
       "      <td>19</td>\n",
       "    </tr>\n",
       "    <tr>\n",
       "      <th>1</th>\n",
       "      <td>2</td>\n",
       "      <td>15</td>\n",
       "      <td>3</td>\n",
       "      <td>1</td>\n",
       "      <td>17</td>\n",
       "    </tr>\n",
       "    <tr>\n",
       "      <th>2</th>\n",
       "      <td>1</td>\n",
       "      <td>23</td>\n",
       "      <td>3</td>\n",
       "      <td>2</td>\n",
       "      <td>49</td>\n",
       "    </tr>\n",
       "    <tr>\n",
       "      <th>3</th>\n",
       "      <td>1</td>\n",
       "      <td>5</td>\n",
       "      <td>2</td>\n",
       "      <td>2</td>\n",
       "      <td>33</td>\n",
       "    </tr>\n",
       "    <tr>\n",
       "      <th>4</th>\n",
       "      <td>2</td>\n",
       "      <td>7</td>\n",
       "      <td>11</td>\n",
       "      <td>2</td>\n",
       "      <td>55</td>\n",
       "    </tr>\n",
       "    <tr>\n",
       "      <th>...</th>\n",
       "      <td>...</td>\n",
       "      <td>...</td>\n",
       "      <td>...</td>\n",
       "      <td>...</td>\n",
       "      <td>...</td>\n",
       "    </tr>\n",
       "    <tr>\n",
       "      <th>146</th>\n",
       "      <td>2</td>\n",
       "      <td>3</td>\n",
       "      <td>2</td>\n",
       "      <td>2</td>\n",
       "      <td>26</td>\n",
       "    </tr>\n",
       "    <tr>\n",
       "      <th>147</th>\n",
       "      <td>2</td>\n",
       "      <td>10</td>\n",
       "      <td>3</td>\n",
       "      <td>2</td>\n",
       "      <td>12</td>\n",
       "    </tr>\n",
       "    <tr>\n",
       "      <th>148</th>\n",
       "      <td>1</td>\n",
       "      <td>18</td>\n",
       "      <td>7</td>\n",
       "      <td>2</td>\n",
       "      <td>48</td>\n",
       "    </tr>\n",
       "    <tr>\n",
       "      <th>149</th>\n",
       "      <td>2</td>\n",
       "      <td>22</td>\n",
       "      <td>1</td>\n",
       "      <td>2</td>\n",
       "      <td>51</td>\n",
       "    </tr>\n",
       "    <tr>\n",
       "      <th>150</th>\n",
       "      <td>2</td>\n",
       "      <td>2</td>\n",
       "      <td>10</td>\n",
       "      <td>2</td>\n",
       "      <td>27</td>\n",
       "    </tr>\n",
       "  </tbody>\n",
       "</table>\n",
       "<p>151 rows × 5 columns</p>\n",
       "</div>"
      ],
      "text/plain": [
       "     English?  Instructor  Course  Summer?  Class Size\n",
       "0           1          23       3        1          19\n",
       "1           2          15       3        1          17\n",
       "2           1          23       3        2          49\n",
       "3           1           5       2        2          33\n",
       "4           2           7      11        2          55\n",
       "..        ...         ...     ...      ...         ...\n",
       "146         2           3       2        2          26\n",
       "147         2          10       3        2          12\n",
       "148         1          18       7        2          48\n",
       "149         2          22       1        2          51\n",
       "150         2           2      10        2          27\n",
       "\n",
       "[151 rows x 5 columns]"
      ]
     },
     "execution_count": 38,
     "metadata": {},
     "output_type": "execute_result"
    }
   ],
   "source": [
    "X = tae.iloc[:,:5]\n",
    "X"
   ]
  },
  {
   "cell_type": "code",
   "execution_count": 39,
   "metadata": {},
   "outputs": [
    {
     "data": {
      "text/html": [
       "<div>\n",
       "<style scoped>\n",
       "    .dataframe tbody tr th:only-of-type {\n",
       "        vertical-align: middle;\n",
       "    }\n",
       "\n",
       "    .dataframe tbody tr th {\n",
       "        vertical-align: top;\n",
       "    }\n",
       "\n",
       "    .dataframe thead th {\n",
       "        text-align: right;\n",
       "    }\n",
       "</style>\n",
       "<table border=\"1\" class=\"dataframe\">\n",
       "  <thead>\n",
       "    <tr style=\"text-align: right;\">\n",
       "      <th></th>\n",
       "      <th>Quality</th>\n",
       "    </tr>\n",
       "  </thead>\n",
       "  <tbody>\n",
       "    <tr>\n",
       "      <th>0</th>\n",
       "      <td>3</td>\n",
       "    </tr>\n",
       "    <tr>\n",
       "      <th>1</th>\n",
       "      <td>3</td>\n",
       "    </tr>\n",
       "    <tr>\n",
       "      <th>2</th>\n",
       "      <td>3</td>\n",
       "    </tr>\n",
       "    <tr>\n",
       "      <th>3</th>\n",
       "      <td>3</td>\n",
       "    </tr>\n",
       "    <tr>\n",
       "      <th>4</th>\n",
       "      <td>3</td>\n",
       "    </tr>\n",
       "    <tr>\n",
       "      <th>...</th>\n",
       "      <td>...</td>\n",
       "    </tr>\n",
       "    <tr>\n",
       "      <th>146</th>\n",
       "      <td>1</td>\n",
       "    </tr>\n",
       "    <tr>\n",
       "      <th>147</th>\n",
       "      <td>1</td>\n",
       "    </tr>\n",
       "    <tr>\n",
       "      <th>148</th>\n",
       "      <td>1</td>\n",
       "    </tr>\n",
       "    <tr>\n",
       "      <th>149</th>\n",
       "      <td>1</td>\n",
       "    </tr>\n",
       "    <tr>\n",
       "      <th>150</th>\n",
       "      <td>1</td>\n",
       "    </tr>\n",
       "  </tbody>\n",
       "</table>\n",
       "<p>151 rows × 1 columns</p>\n",
       "</div>"
      ],
      "text/plain": [
       "     Quality\n",
       "0          3\n",
       "1          3\n",
       "2          3\n",
       "3          3\n",
       "4          3\n",
       "..       ...\n",
       "146        1\n",
       "147        1\n",
       "148        1\n",
       "149        1\n",
       "150        1\n",
       "\n",
       "[151 rows x 1 columns]"
      ]
     },
     "execution_count": 39,
     "metadata": {},
     "output_type": "execute_result"
    }
   ],
   "source": [
    "y = tae.iloc[:,5:6]\n",
    "y"
   ]
  },
  {
   "cell_type": "code",
   "execution_count": 40,
   "metadata": {},
   "outputs": [],
   "source": [
    "y = y.values.ravel()"
   ]
  },
  {
   "cell_type": "markdown",
   "metadata": {},
   "source": [
    "We now split our data into a train set and a test set. The default parameters are 25% for the test set and the rest for training; however, we found that a 20/80 split resulted in a better accuracy. "
   ]
  },
  {
   "cell_type": "code",
   "execution_count": 41,
   "metadata": {},
   "outputs": [],
   "source": [
    "#Train-test splitting\n",
    "\n",
    "X_train, X_test, y_train, y_test = train_test_split(X,y, test_size = 0.2, train_size = 0.8, random_state = 0)"
   ]
  },
  {
   "cell_type": "markdown",
   "metadata": {},
   "source": [
    "The LDA model is applied to the data and accuracy is calculated. Accuracy is the number of correct predictions (both positive and negative) among all cases examined. "
   ]
  },
  {
   "cell_type": "code",
   "execution_count": 42,
   "metadata": {},
   "outputs": [
    {
     "name": "stdout",
     "output_type": "stream",
     "text": [
      "Accuracy of LDA classifier on training set: 0.55\n",
      "Accuracy of LDA classifier on test set: 0.61\n"
     ]
    }
   ],
   "source": [
    "#Applying the LDA\n",
    "\n",
    "lda = LinearDiscriminantAnalysis()\n",
    "lda.fit(X_train, y_train)\n",
    "print('Accuracy of LDA classifier on training set: {:.2f}'\n",
    "     .format(lda.score(X_train, y_train)))\n",
    "print('Accuracy of LDA classifier on test set: {:.2f}'\n",
    "     .format(lda.score(X_test, y_test)))"
   ]
  },
  {
   "cell_type": "markdown",
   "metadata": {},
   "source": [
    "Precision, recall, f1 score and support are also calculated. \n",
    "\n",
    "Precision is also known as positive predictive value, and it is calculated as follows: tp / (tp + fp), where tp is the number of true positives and fp the number of false positives. It can be interpreted as the ability of the classifier not to label as positive a sample that is negative.\n",
    "\n",
    "Recall or true positive rate is calculated as follows: tp / (tp + fn), where tp is the number of true positives and fn the number of false negatives. It can be interpreted as the ability of the classifier to find all the positive samples.\n",
    "\n",
    "F1 score is a value calculated using both precision and recall as follows: (precision * recall) / (precision + recall)\n",
    "\n",
    "Finally, support is the number of occurrences of each class in the correct target values. \n",
    "\n",
    "We can see that precision and recall have similar average values; but they vary between classes. "
   ]
  },
  {
   "cell_type": "code",
   "execution_count": 43,
   "metadata": {},
   "outputs": [
    {
     "name": "stdout",
     "output_type": "stream",
     "text": [
      "              precision    recall  f1-score   support\n",
      "\n",
      "           1       0.55      0.86      0.67         7\n",
      "           2       0.71      0.42      0.53        12\n",
      "           3       0.62      0.67      0.64        12\n",
      "\n",
      "    accuracy                           0.61        31\n",
      "   macro avg       0.63      0.65      0.61        31\n",
      "weighted avg       0.64      0.61      0.60        31\n",
      "\n"
     ]
    }
   ],
   "source": [
    "#Calculating metrics \n",
    "\n",
    "predicted = lda.predict(X_test)\n",
    "expected = y_test\n",
    "print(metrics.classification_report(expected, predicted))"
   ]
  },
  {
   "cell_type": "markdown",
   "metadata": {},
   "source": [
    "## Conclusions\n",
    "The first thing we noticed with all methods was that the accuracy was relatively low, with a maximum achieved at 68% with Decision Trees and a minimum of 42% with kNN. This tells us that the dataset is not so easily classified: There are many outliers, and complicated relations which make it hard for these relatively simple methods to describe with high certainty.\n",
    "\n",
    "For decision trees, we noticed that the method was by far the most complex, with multiple rules for choosing, calculations needing to be done for tables, subtables, sub-subtables, etc, but it also achieved the best accuracy: With the same test/train split of 20/80 we achieved a 68% accuracy, being the best out of all the methods. \n",
    "\n",
    "With kNN we had the advantage of a simple method that decides differently from linear methods, thanks to its decisions being based on what the number of neighbors selected suggest rather than a set linear boundary. This, however, turned out to be not the best way to decide for this particular dataset, as the accuracy of 42% on the test set reveals. This means that the data is not easily characterized by its neighbors. The tests with other methods suggest that for this problem a linear decision boundary performs better than kNN.\n",
    "\n",
    "With LDA we noticed that even though it is a much more straightforward method compared to decision trees it still achieved a similar performance at 61% accuracy with the same test/train split. Something we can keep in mind is that LDA performs best with a normal distribution of data, but we do not know if our dataset follows any particular arrangement which could account for the low accuracy, although it is still performing competitively compared to our original method.\n",
    "\n",
    "While these methods achieve a better result than chance, and a 68% accuracy is significant, it is clear to us that other methods may be better for this particular dataset. The advantage of the methods used, however, is that they were very simple to implement using SciKit Learn, and it's a cheap and easy way to make predictions when no other methods are easily deployed."
   ]
  },
  {
   "cell_type": "markdown",
   "metadata": {},
   "source": [
    "### Sources\n",
    "Jolly, K. (2018). Machine learning with scikit-learn quick start guide : Classification, regression, and clustering techniques in python. Packt Publishing, Limited.\n",
    "\n",
    "Johnston, B., & Mathur, I. (2019). Applied supervised learning with python : Use scikit-learn to build predictive models from real-world datasets and prepare yourself for the future of machine learning. Packt Publishing, Limited.\n",
    "\n",
    "\n",
    "Decision Trees - <br>\n",
    "https://scikit-learn.org/stable/modules/tree.html <br>\n",
    "https://scikit-learn.org/stable/auto_examples/tree/plot_unveil_tree_structure.html <br>\n",
    "https://scikit-learn.org/stable/modules/generated/sklearn.tree.DecisionTreeClassifier.html\n",
    "\n",
    "kNN - <br>\n",
    "https://scikit-learn.org/stable/modules/neighbors.html\n",
    "\n",
    "LDA - <br>\n",
    "https://scikit-learn.org/0.16/modules/lda_qda.html"
   ]
  }
 ],
 "metadata": {
  "kernelspec": {
   "display_name": "Python 3",
   "language": "python",
   "name": "python3"
  },
  "language_info": {
   "codemirror_mode": {
    "name": "ipython",
    "version": 3
   },
   "file_extension": ".py",
   "mimetype": "text/x-python",
   "name": "python",
   "nbconvert_exporter": "python",
   "pygments_lexer": "ipython3",
   "version": "3.8.5"
  }
 },
 "nbformat": 4,
 "nbformat_minor": 4
}
